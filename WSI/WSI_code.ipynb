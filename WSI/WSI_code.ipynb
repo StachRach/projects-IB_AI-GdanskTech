{
  "cells": [
    {
      "cell_type": "markdown",
      "metadata": {
        "id": "Ct-dta55LD3F"
      },
      "source": [
        "# Kod źródłowy do projektu z przedmiotu Wprowadzenie do Sztucznej Inteligencji\n",
        "### Marta Arendt\n",
        "### Maciej Mechliński\n",
        "### Michał Gąsecki\n",
        "### Stanisław Rachwał"
      ]
    },
    {
      "cell_type": "markdown",
      "metadata": {
        "id": "x4os8Qclc7vv"
      },
      "source": [
        "# Importy i ścieżka do bazy"
      ]
    },
    {
      "cell_type": "code",
      "execution_count": null,
      "metadata": {
        "id": "YErwgeIsc7vw"
      },
      "outputs": [],
      "source": [
        "import numpy as np\n",
        "import pandas as pd\n",
        "import matplotlib.pyplot as plt\n",
        "\n",
        "# PATH = 'echocardiogram.csv'  # ŚCIEŻKA NA KOMPUTERZE\n",
        "\n",
        "# ŚCIEŻKI NA COLABIE\n",
        "# Dodawanie indywidualnych części ścieżek jako zmienne, dokonanie konkatenacji, by otrzymać pełną ścieżkę do danych\n",
        "folders_sr = 'II stopień/WSI/echocardiogram.csv'\n",
        "folders_ma = 'studia II stopień/WSI/echocardiogram.csv'\n",
        "folders_mm = '/WSI_projekt/echocardiogram.csv'\n",
        "PATH = '/content/drive/MyDrive/' + folders_sr"
      ]
    },
    {
      "cell_type": "markdown",
      "metadata": {
        "id": "rLAjfdgWc7vx"
      },
      "source": [
        "# Eksploracja danych"
      ]
    },
    {
      "cell_type": "code",
      "execution_count": null,
      "metadata": {
        "colab": {
          "base_uri": "https://localhost:8080/",
          "height": 990
        },
        "id": "xLY7TOv3c7vy",
        "outputId": "f96d1378-3d66-4010-88dd-73ccda6f8e5e"
      },
      "outputs": [
        {
          "data": {
            "text/html": [
              "\n",
              "  <div id=\"df-55d85c0d-3c32-4137-a978-bb6ab2a6c4e9\">\n",
              "    <div class=\"colab-df-container\">\n",
              "      <div>\n",
              "<style scoped>\n",
              "    .dataframe tbody tr th:only-of-type {\n",
              "        vertical-align: middle;\n",
              "    }\n",
              "\n",
              "    .dataframe tbody tr th {\n",
              "        vertical-align: top;\n",
              "    }\n",
              "\n",
              "    .dataframe thead th {\n",
              "        text-align: right;\n",
              "    }\n",
              "</style>\n",
              "<table border=\"1\" class=\"dataframe\">\n",
              "  <thead>\n",
              "    <tr style=\"text-align: right;\">\n",
              "      <th></th>\n",
              "      <th>survival</th>\n",
              "      <th>still_alive</th>\n",
              "      <th>age_at_heart_attack</th>\n",
              "      <th>pericardial_effusion</th>\n",
              "      <th>fractional_shortening</th>\n",
              "      <th>epss</th>\n",
              "      <th>lvdd</th>\n",
              "      <th>wall_motion_index</th>\n",
              "      <th>alive_at_1</th>\n",
              "    </tr>\n",
              "  </thead>\n",
              "  <tbody>\n",
              "    <tr>\n",
              "      <th>0</th>\n",
              "      <td>11.00</td>\n",
              "      <td>0</td>\n",
              "      <td>71.000</td>\n",
              "      <td>0</td>\n",
              "      <td>0.260</td>\n",
              "      <td>9.000</td>\n",
              "      <td>4.600</td>\n",
              "      <td>1.000</td>\n",
              "      <td>0.0</td>\n",
              "    </tr>\n",
              "    <tr>\n",
              "      <th>1</th>\n",
              "      <td>19.00</td>\n",
              "      <td>0</td>\n",
              "      <td>72.000</td>\n",
              "      <td>0</td>\n",
              "      <td>0.380</td>\n",
              "      <td>6.000</td>\n",
              "      <td>4.100</td>\n",
              "      <td>1.700</td>\n",
              "      <td>0.0</td>\n",
              "    </tr>\n",
              "    <tr>\n",
              "      <th>2</th>\n",
              "      <td>16.00</td>\n",
              "      <td>0</td>\n",
              "      <td>55.000</td>\n",
              "      <td>0</td>\n",
              "      <td>0.260</td>\n",
              "      <td>4.000</td>\n",
              "      <td>3.420</td>\n",
              "      <td>1.000</td>\n",
              "      <td>0.0</td>\n",
              "    </tr>\n",
              "    <tr>\n",
              "      <th>3</th>\n",
              "      <td>57.00</td>\n",
              "      <td>0</td>\n",
              "      <td>60.000</td>\n",
              "      <td>0</td>\n",
              "      <td>0.253</td>\n",
              "      <td>12.062</td>\n",
              "      <td>4.603</td>\n",
              "      <td>1.450</td>\n",
              "      <td>0.0</td>\n",
              "    </tr>\n",
              "    <tr>\n",
              "      <th>4</th>\n",
              "      <td>19.00</td>\n",
              "      <td>1</td>\n",
              "      <td>57.000</td>\n",
              "      <td>0</td>\n",
              "      <td>0.160</td>\n",
              "      <td>22.000</td>\n",
              "      <td>5.750</td>\n",
              "      <td>2.250</td>\n",
              "      <td>0.0</td>\n",
              "    </tr>\n",
              "    <tr>\n",
              "      <th>5</th>\n",
              "      <td>26.00</td>\n",
              "      <td>0</td>\n",
              "      <td>68.000</td>\n",
              "      <td>0</td>\n",
              "      <td>0.260</td>\n",
              "      <td>5.000</td>\n",
              "      <td>4.310</td>\n",
              "      <td>1.000</td>\n",
              "      <td>0.0</td>\n",
              "    </tr>\n",
              "    <tr>\n",
              "      <th>6</th>\n",
              "      <td>13.00</td>\n",
              "      <td>0</td>\n",
              "      <td>62.000</td>\n",
              "      <td>0</td>\n",
              "      <td>0.230</td>\n",
              "      <td>31.000</td>\n",
              "      <td>5.430</td>\n",
              "      <td>1.875</td>\n",
              "      <td>0.0</td>\n",
              "    </tr>\n",
              "    <tr>\n",
              "      <th>7</th>\n",
              "      <td>50.00</td>\n",
              "      <td>0</td>\n",
              "      <td>60.000</td>\n",
              "      <td>0</td>\n",
              "      <td>0.330</td>\n",
              "      <td>8.000</td>\n",
              "      <td>5.250</td>\n",
              "      <td>1.000</td>\n",
              "      <td>0.0</td>\n",
              "    </tr>\n",
              "    <tr>\n",
              "      <th>8</th>\n",
              "      <td>19.00</td>\n",
              "      <td>0</td>\n",
              "      <td>46.000</td>\n",
              "      <td>0</td>\n",
              "      <td>0.340</td>\n",
              "      <td>0.000</td>\n",
              "      <td>5.090</td>\n",
              "      <td>1.140</td>\n",
              "      <td>0.0</td>\n",
              "    </tr>\n",
              "    <tr>\n",
              "      <th>9</th>\n",
              "      <td>25.00</td>\n",
              "      <td>0</td>\n",
              "      <td>54.000</td>\n",
              "      <td>0</td>\n",
              "      <td>0.140</td>\n",
              "      <td>13.000</td>\n",
              "      <td>4.490</td>\n",
              "      <td>1.190</td>\n",
              "      <td>0.0</td>\n",
              "    </tr>\n",
              "    <tr>\n",
              "      <th>10</th>\n",
              "      <td>10.00</td>\n",
              "      <td>1</td>\n",
              "      <td>77.000</td>\n",
              "      <td>0</td>\n",
              "      <td>0.130</td>\n",
              "      <td>16.000</td>\n",
              "      <td>4.230</td>\n",
              "      <td>1.800</td>\n",
              "      <td>1.0</td>\n",
              "    </tr>\n",
              "    <tr>\n",
              "      <th>11</th>\n",
              "      <td>52.00</td>\n",
              "      <td>0</td>\n",
              "      <td>62.000</td>\n",
              "      <td>1</td>\n",
              "      <td>0.450</td>\n",
              "      <td>9.000</td>\n",
              "      <td>3.600</td>\n",
              "      <td>1.140</td>\n",
              "      <td>0.0</td>\n",
              "    </tr>\n",
              "    <tr>\n",
              "      <th>12</th>\n",
              "      <td>52.00</td>\n",
              "      <td>0</td>\n",
              "      <td>73.000</td>\n",
              "      <td>0</td>\n",
              "      <td>0.330</td>\n",
              "      <td>6.000</td>\n",
              "      <td>4.000</td>\n",
              "      <td>1.000</td>\n",
              "      <td>0.0</td>\n",
              "    </tr>\n",
              "    <tr>\n",
              "      <th>13</th>\n",
              "      <td>44.00</td>\n",
              "      <td>0</td>\n",
              "      <td>60.000</td>\n",
              "      <td>0</td>\n",
              "      <td>0.150</td>\n",
              "      <td>10.000</td>\n",
              "      <td>3.730</td>\n",
              "      <td>1.000</td>\n",
              "      <td>0.0</td>\n",
              "    </tr>\n",
              "    <tr>\n",
              "      <th>14</th>\n",
              "      <td>0.50</td>\n",
              "      <td>1</td>\n",
              "      <td>62.000</td>\n",
              "      <td>0</td>\n",
              "      <td>0.120</td>\n",
              "      <td>23.000</td>\n",
              "      <td>5.800</td>\n",
              "      <td>2.330</td>\n",
              "      <td>1.0</td>\n",
              "    </tr>\n",
              "    <tr>\n",
              "      <th>15</th>\n",
              "      <td>24.00</td>\n",
              "      <td>0</td>\n",
              "      <td>55.000</td>\n",
              "      <td>1</td>\n",
              "      <td>0.250</td>\n",
              "      <td>12.063</td>\n",
              "      <td>4.290</td>\n",
              "      <td>1.000</td>\n",
              "      <td>0.0</td>\n",
              "    </tr>\n",
              "    <tr>\n",
              "      <th>16</th>\n",
              "      <td>0.50</td>\n",
              "      <td>1</td>\n",
              "      <td>69.000</td>\n",
              "      <td>1</td>\n",
              "      <td>0.260</td>\n",
              "      <td>11.000</td>\n",
              "      <td>4.650</td>\n",
              "      <td>1.640</td>\n",
              "      <td>1.0</td>\n",
              "    </tr>\n",
              "    <tr>\n",
              "      <th>17</th>\n",
              "      <td>0.50</td>\n",
              "      <td>1</td>\n",
              "      <td>62.529</td>\n",
              "      <td>1</td>\n",
              "      <td>0.070</td>\n",
              "      <td>20.000</td>\n",
              "      <td>5.200</td>\n",
              "      <td>2.000</td>\n",
              "      <td>1.0</td>\n",
              "    </tr>\n",
              "    <tr>\n",
              "      <th>18</th>\n",
              "      <td>22.00</td>\n",
              "      <td>1</td>\n",
              "      <td>66.000</td>\n",
              "      <td>0</td>\n",
              "      <td>0.090</td>\n",
              "      <td>17.000</td>\n",
              "      <td>5.819</td>\n",
              "      <td>1.333</td>\n",
              "      <td>0.0</td>\n",
              "    </tr>\n",
              "    <tr>\n",
              "      <th>19</th>\n",
              "      <td>1.00</td>\n",
              "      <td>1</td>\n",
              "      <td>66.000</td>\n",
              "      <td>1</td>\n",
              "      <td>0.220</td>\n",
              "      <td>15.000</td>\n",
              "      <td>5.400</td>\n",
              "      <td>2.250</td>\n",
              "      <td>1.0</td>\n",
              "    </tr>\n",
              "    <tr>\n",
              "      <th>20</th>\n",
              "      <td>0.75</td>\n",
              "      <td>1</td>\n",
              "      <td>69.000</td>\n",
              "      <td>0</td>\n",
              "      <td>0.150</td>\n",
              "      <td>12.000</td>\n",
              "      <td>5.390</td>\n",
              "      <td>1.625</td>\n",
              "      <td>1.0</td>\n",
              "    </tr>\n",
              "    <tr>\n",
              "      <th>21</th>\n",
              "      <td>0.75</td>\n",
              "      <td>1</td>\n",
              "      <td>85.000</td>\n",
              "      <td>1</td>\n",
              "      <td>0.180</td>\n",
              "      <td>19.000</td>\n",
              "      <td>5.460</td>\n",
              "      <td>1.380</td>\n",
              "      <td>1.0</td>\n",
              "    </tr>\n",
              "    <tr>\n",
              "      <th>22</th>\n",
              "      <td>0.50</td>\n",
              "      <td>1</td>\n",
              "      <td>73.000</td>\n",
              "      <td>0</td>\n",
              "      <td>0.230</td>\n",
              "      <td>12.733</td>\n",
              "      <td>6.060</td>\n",
              "      <td>1.500</td>\n",
              "      <td>1.0</td>\n",
              "    </tr>\n",
              "    <tr>\n",
              "      <th>23</th>\n",
              "      <td>5.00</td>\n",
              "      <td>1</td>\n",
              "      <td>71.000</td>\n",
              "      <td>0</td>\n",
              "      <td>0.170</td>\n",
              "      <td>0.000</td>\n",
              "      <td>4.650</td>\n",
              "      <td>1.000</td>\n",
              "      <td>1.0</td>\n",
              "    </tr>\n",
              "    <tr>\n",
              "      <th>24</th>\n",
              "      <td>48.00</td>\n",
              "      <td>0</td>\n",
              "      <td>64.000</td>\n",
              "      <td>0</td>\n",
              "      <td>0.190</td>\n",
              "      <td>5.900</td>\n",
              "      <td>3.480</td>\n",
              "      <td>1.110</td>\n",
              "      <td>NaN</td>\n",
              "    </tr>\n",
              "    <tr>\n",
              "      <th>25</th>\n",
              "      <td>29.00</td>\n",
              "      <td>0</td>\n",
              "      <td>54.000</td>\n",
              "      <td>0</td>\n",
              "      <td>0.300</td>\n",
              "      <td>7.000</td>\n",
              "      <td>3.850</td>\n",
              "      <td>1.667</td>\n",
              "      <td>NaN</td>\n",
              "    </tr>\n",
              "    <tr>\n",
              "      <th>26</th>\n",
              "      <td>29.00</td>\n",
              "      <td>0</td>\n",
              "      <td>35.000</td>\n",
              "      <td>0</td>\n",
              "      <td>0.300</td>\n",
              "      <td>5.000</td>\n",
              "      <td>4.170</td>\n",
              "      <td>1.000</td>\n",
              "      <td>NaN</td>\n",
              "    </tr>\n",
              "    <tr>\n",
              "      <th>27</th>\n",
              "      <td>29.00</td>\n",
              "      <td>0</td>\n",
              "      <td>55.000</td>\n",
              "      <td>0</td>\n",
              "      <td>NaN</td>\n",
              "      <td>7.000</td>\n",
              "      <td>NaN</td>\n",
              "      <td>1.000</td>\n",
              "      <td>NaN</td>\n",
              "    </tr>\n",
              "    <tr>\n",
              "      <th>28</th>\n",
              "      <td>0.25</td>\n",
              "      <td>1</td>\n",
              "      <td>75.000</td>\n",
              "      <td>0</td>\n",
              "      <td>NaN</td>\n",
              "      <td>NaN</td>\n",
              "      <td>NaN</td>\n",
              "      <td>1.000</td>\n",
              "      <td>NaN</td>\n",
              "    </tr>\n",
              "    <tr>\n",
              "      <th>29</th>\n",
              "      <td>36.00</td>\n",
              "      <td>0</td>\n",
              "      <td>55.000</td>\n",
              "      <td>1</td>\n",
              "      <td>0.210</td>\n",
              "      <td>4.200</td>\n",
              "      <td>4.160</td>\n",
              "      <td>1.560</td>\n",
              "      <td>0.0</td>\n",
              "    </tr>\n",
              "  </tbody>\n",
              "</table>\n",
              "</div>\n",
              "      <button class=\"colab-df-convert\" onclick=\"convertToInteractive('df-55d85c0d-3c32-4137-a978-bb6ab2a6c4e9')\"\n",
              "              title=\"Convert this dataframe to an interactive table.\"\n",
              "              style=\"display:none;\">\n",
              "        \n",
              "  <svg xmlns=\"http://www.w3.org/2000/svg\" height=\"24px\"viewBox=\"0 0 24 24\"\n",
              "       width=\"24px\">\n",
              "    <path d=\"M0 0h24v24H0V0z\" fill=\"none\"/>\n",
              "    <path d=\"M18.56 5.44l.94 2.06.94-2.06 2.06-.94-2.06-.94-.94-2.06-.94 2.06-2.06.94zm-11 1L8.5 8.5l.94-2.06 2.06-.94-2.06-.94L8.5 2.5l-.94 2.06-2.06.94zm10 10l.94 2.06.94-2.06 2.06-.94-2.06-.94-.94-2.06-.94 2.06-2.06.94z\"/><path d=\"M17.41 7.96l-1.37-1.37c-.4-.4-.92-.59-1.43-.59-.52 0-1.04.2-1.43.59L10.3 9.45l-7.72 7.72c-.78.78-.78 2.05 0 2.83L4 21.41c.39.39.9.59 1.41.59.51 0 1.02-.2 1.41-.59l7.78-7.78 2.81-2.81c.8-.78.8-2.07 0-2.86zM5.41 20L4 18.59l7.72-7.72 1.47 1.35L5.41 20z\"/>\n",
              "  </svg>\n",
              "      </button>\n",
              "      \n",
              "  <style>\n",
              "    .colab-df-container {\n",
              "      display:flex;\n",
              "      flex-wrap:wrap;\n",
              "      gap: 12px;\n",
              "    }\n",
              "\n",
              "    .colab-df-convert {\n",
              "      background-color: #E8F0FE;\n",
              "      border: none;\n",
              "      border-radius: 50%;\n",
              "      cursor: pointer;\n",
              "      display: none;\n",
              "      fill: #1967D2;\n",
              "      height: 32px;\n",
              "      padding: 0 0 0 0;\n",
              "      width: 32px;\n",
              "    }\n",
              "\n",
              "    .colab-df-convert:hover {\n",
              "      background-color: #E2EBFA;\n",
              "      box-shadow: 0px 1px 2px rgba(60, 64, 67, 0.3), 0px 1px 3px 1px rgba(60, 64, 67, 0.15);\n",
              "      fill: #174EA6;\n",
              "    }\n",
              "\n",
              "    [theme=dark] .colab-df-convert {\n",
              "      background-color: #3B4455;\n",
              "      fill: #D2E3FC;\n",
              "    }\n",
              "\n",
              "    [theme=dark] .colab-df-convert:hover {\n",
              "      background-color: #434B5C;\n",
              "      box-shadow: 0px 1px 3px 1px rgba(0, 0, 0, 0.15);\n",
              "      filter: drop-shadow(0px 1px 2px rgba(0, 0, 0, 0.3));\n",
              "      fill: #FFFFFF;\n",
              "    }\n",
              "  </style>\n",
              "\n",
              "      <script>\n",
              "        const buttonEl =\n",
              "          document.querySelector('#df-55d85c0d-3c32-4137-a978-bb6ab2a6c4e9 button.colab-df-convert');\n",
              "        buttonEl.style.display =\n",
              "          google.colab.kernel.accessAllowed ? 'block' : 'none';\n",
              "\n",
              "        async function convertToInteractive(key) {\n",
              "          const element = document.querySelector('#df-55d85c0d-3c32-4137-a978-bb6ab2a6c4e9');\n",
              "          const dataTable =\n",
              "            await google.colab.kernel.invokeFunction('convertToInteractive',\n",
              "                                                     [key], {});\n",
              "          if (!dataTable) return;\n",
              "\n",
              "          const docLinkHtml = 'Like what you see? Visit the ' +\n",
              "            '<a target=\"_blank\" href=https://colab.research.google.com/notebooks/data_table.ipynb>data table notebook</a>'\n",
              "            + ' to learn more about interactive tables.';\n",
              "          element.innerHTML = '';\n",
              "          dataTable['output_type'] = 'display_data';\n",
              "          await google.colab.output.renderOutput(dataTable, element);\n",
              "          const docLink = document.createElement('div');\n",
              "          docLink.innerHTML = docLinkHtml;\n",
              "          element.appendChild(docLink);\n",
              "        }\n",
              "      </script>\n",
              "    </div>\n",
              "  </div>\n",
              "  "
            ],
            "text/plain": [
              "    survival  still_alive  age_at_heart_attack  pericardial_effusion  \\\n",
              "0      11.00            0               71.000                     0   \n",
              "1      19.00            0               72.000                     0   \n",
              "2      16.00            0               55.000                     0   \n",
              "3      57.00            0               60.000                     0   \n",
              "4      19.00            1               57.000                     0   \n",
              "5      26.00            0               68.000                     0   \n",
              "6      13.00            0               62.000                     0   \n",
              "7      50.00            0               60.000                     0   \n",
              "8      19.00            0               46.000                     0   \n",
              "9      25.00            0               54.000                     0   \n",
              "10     10.00            1               77.000                     0   \n",
              "11     52.00            0               62.000                     1   \n",
              "12     52.00            0               73.000                     0   \n",
              "13     44.00            0               60.000                     0   \n",
              "14      0.50            1               62.000                     0   \n",
              "15     24.00            0               55.000                     1   \n",
              "16      0.50            1               69.000                     1   \n",
              "17      0.50            1               62.529                     1   \n",
              "18     22.00            1               66.000                     0   \n",
              "19      1.00            1               66.000                     1   \n",
              "20      0.75            1               69.000                     0   \n",
              "21      0.75            1               85.000                     1   \n",
              "22      0.50            1               73.000                     0   \n",
              "23      5.00            1               71.000                     0   \n",
              "24     48.00            0               64.000                     0   \n",
              "25     29.00            0               54.000                     0   \n",
              "26     29.00            0               35.000                     0   \n",
              "27     29.00            0               55.000                     0   \n",
              "28      0.25            1               75.000                     0   \n",
              "29     36.00            0               55.000                     1   \n",
              "\n",
              "    fractional_shortening    epss   lvdd  wall_motion_index  alive_at_1  \n",
              "0                   0.260   9.000  4.600              1.000         0.0  \n",
              "1                   0.380   6.000  4.100              1.700         0.0  \n",
              "2                   0.260   4.000  3.420              1.000         0.0  \n",
              "3                   0.253  12.062  4.603              1.450         0.0  \n",
              "4                   0.160  22.000  5.750              2.250         0.0  \n",
              "5                   0.260   5.000  4.310              1.000         0.0  \n",
              "6                   0.230  31.000  5.430              1.875         0.0  \n",
              "7                   0.330   8.000  5.250              1.000         0.0  \n",
              "8                   0.340   0.000  5.090              1.140         0.0  \n",
              "9                   0.140  13.000  4.490              1.190         0.0  \n",
              "10                  0.130  16.000  4.230              1.800         1.0  \n",
              "11                  0.450   9.000  3.600              1.140         0.0  \n",
              "12                  0.330   6.000  4.000              1.000         0.0  \n",
              "13                  0.150  10.000  3.730              1.000         0.0  \n",
              "14                  0.120  23.000  5.800              2.330         1.0  \n",
              "15                  0.250  12.063  4.290              1.000         0.0  \n",
              "16                  0.260  11.000  4.650              1.640         1.0  \n",
              "17                  0.070  20.000  5.200              2.000         1.0  \n",
              "18                  0.090  17.000  5.819              1.333         0.0  \n",
              "19                  0.220  15.000  5.400              2.250         1.0  \n",
              "20                  0.150  12.000  5.390              1.625         1.0  \n",
              "21                  0.180  19.000  5.460              1.380         1.0  \n",
              "22                  0.230  12.733  6.060              1.500         1.0  \n",
              "23                  0.170   0.000  4.650              1.000         1.0  \n",
              "24                  0.190   5.900  3.480              1.110         NaN  \n",
              "25                  0.300   7.000  3.850              1.667         NaN  \n",
              "26                  0.300   5.000  4.170              1.000         NaN  \n",
              "27                    NaN   7.000    NaN              1.000         NaN  \n",
              "28                    NaN     NaN    NaN              1.000         NaN  \n",
              "29                  0.210   4.200  4.160              1.560         0.0  "
            ]
          },
          "execution_count": 4,
          "metadata": {},
          "output_type": "execute_result"
        }
      ],
      "source": [
        "df = pd.read_csv(PATH, na_values='?', on_bad_lines='skip', names=['survival', 'still_alive', 'age_at_heart_attack', 'pericardial_effusion', 'fractional_shortening',\n",
        "                                                   'epss', 'lvdd', 'wall_motion_score', 'wall_motion_index', 'mult', 'name', 'group', 'alive_at_1'])\n",
        "\n",
        "df = df.drop(['wall_motion_score', 'mult', 'name', 'group'], axis=1)\n",
        "df.head(30)"
      ]
    },
    {
      "cell_type": "code",
      "execution_count": null,
      "metadata": {
        "colab": {
          "base_uri": "https://localhost:8080/"
        },
        "id": "6pqIgzBQuc-T",
        "outputId": "154411db-14db-457c-8592-488a3a9dfaba"
      },
      "outputs": [
        {
          "data": {
            "text/plain": [
              "0.0    50\n",
              "1.0    24\n",
              "Name: alive_at_1, dtype: int64"
            ]
          },
          "execution_count": 5,
          "metadata": {},
          "output_type": "execute_result"
        }
      ],
      "source": [
        "df['alive_at_1'].value_counts()"
      ]
    },
    {
      "cell_type": "code",
      "execution_count": null,
      "metadata": {
        "colab": {
          "base_uri": "https://localhost:8080/",
          "height": 300
        },
        "id": "5Ok5u2rhc7vz",
        "outputId": "83682e07-f96a-4caa-9847-e370181fb884"
      },
      "outputs": [
        {
          "data": {
            "text/html": [
              "\n",
              "  <div id=\"df-5b1314f6-ad8c-4ca5-a4ca-99f4238181d8\">\n",
              "    <div class=\"colab-df-container\">\n",
              "      <div>\n",
              "<style scoped>\n",
              "    .dataframe tbody tr th:only-of-type {\n",
              "        vertical-align: middle;\n",
              "    }\n",
              "\n",
              "    .dataframe tbody tr th {\n",
              "        vertical-align: top;\n",
              "    }\n",
              "\n",
              "    .dataframe thead th {\n",
              "        text-align: right;\n",
              "    }\n",
              "</style>\n",
              "<table border=\"1\" class=\"dataframe\">\n",
              "  <thead>\n",
              "    <tr style=\"text-align: right;\">\n",
              "      <th></th>\n",
              "      <th>survival</th>\n",
              "      <th>still_alive</th>\n",
              "      <th>age_at_heart_attack</th>\n",
              "      <th>pericardial_effusion</th>\n",
              "      <th>fractional_shortening</th>\n",
              "      <th>epss</th>\n",
              "      <th>lvdd</th>\n",
              "      <th>wall_motion_index</th>\n",
              "      <th>alive_at_1</th>\n",
              "    </tr>\n",
              "  </thead>\n",
              "  <tbody>\n",
              "    <tr>\n",
              "      <th>count</th>\n",
              "      <td>130.000000</td>\n",
              "      <td>131.000000</td>\n",
              "      <td>126.000000</td>\n",
              "      <td>131.000000</td>\n",
              "      <td>124.000000</td>\n",
              "      <td>117.000000</td>\n",
              "      <td>121.000000</td>\n",
              "      <td>130.00000</td>\n",
              "      <td>74.000000</td>\n",
              "    </tr>\n",
              "    <tr>\n",
              "      <th>mean</th>\n",
              "      <td>22.182923</td>\n",
              "      <td>0.328244</td>\n",
              "      <td>62.813722</td>\n",
              "      <td>0.183206</td>\n",
              "      <td>0.216734</td>\n",
              "      <td>12.164769</td>\n",
              "      <td>4.763157</td>\n",
              "      <td>1.37800</td>\n",
              "      <td>0.324324</td>\n",
              "    </tr>\n",
              "    <tr>\n",
              "      <th>std</th>\n",
              "      <td>15.858267</td>\n",
              "      <td>0.471377</td>\n",
              "      <td>8.342110</td>\n",
              "      <td>0.388320</td>\n",
              "      <td>0.107513</td>\n",
              "      <td>7.370159</td>\n",
              "      <td>0.810013</td>\n",
              "      <td>0.45185</td>\n",
              "      <td>0.471317</td>\n",
              "    </tr>\n",
              "    <tr>\n",
              "      <th>min</th>\n",
              "      <td>0.030000</td>\n",
              "      <td>0.000000</td>\n",
              "      <td>35.000000</td>\n",
              "      <td>0.000000</td>\n",
              "      <td>0.010000</td>\n",
              "      <td>0.000000</td>\n",
              "      <td>2.320000</td>\n",
              "      <td>1.00000</td>\n",
              "      <td>0.000000</td>\n",
              "    </tr>\n",
              "    <tr>\n",
              "      <th>25%</th>\n",
              "      <td>7.875000</td>\n",
              "      <td>0.000000</td>\n",
              "      <td>57.000000</td>\n",
              "      <td>0.000000</td>\n",
              "      <td>0.150000</td>\n",
              "      <td>7.000000</td>\n",
              "      <td>4.230000</td>\n",
              "      <td>1.00000</td>\n",
              "      <td>0.000000</td>\n",
              "    </tr>\n",
              "    <tr>\n",
              "      <th>50%</th>\n",
              "      <td>23.500000</td>\n",
              "      <td>0.000000</td>\n",
              "      <td>62.000000</td>\n",
              "      <td>0.000000</td>\n",
              "      <td>0.205000</td>\n",
              "      <td>11.000000</td>\n",
              "      <td>4.650000</td>\n",
              "      <td>1.21600</td>\n",
              "      <td>0.000000</td>\n",
              "    </tr>\n",
              "    <tr>\n",
              "      <th>75%</th>\n",
              "      <td>33.000000</td>\n",
              "      <td>1.000000</td>\n",
              "      <td>67.750000</td>\n",
              "      <td>0.000000</td>\n",
              "      <td>0.270000</td>\n",
              "      <td>16.100000</td>\n",
              "      <td>5.300000</td>\n",
              "      <td>1.50750</td>\n",
              "      <td>1.000000</td>\n",
              "    </tr>\n",
              "    <tr>\n",
              "      <th>max</th>\n",
              "      <td>57.000000</td>\n",
              "      <td>1.000000</td>\n",
              "      <td>86.000000</td>\n",
              "      <td>1.000000</td>\n",
              "      <td>0.610000</td>\n",
              "      <td>40.000000</td>\n",
              "      <td>6.780000</td>\n",
              "      <td>3.00000</td>\n",
              "      <td>1.000000</td>\n",
              "    </tr>\n",
              "  </tbody>\n",
              "</table>\n",
              "</div>\n",
              "      <button class=\"colab-df-convert\" onclick=\"convertToInteractive('df-5b1314f6-ad8c-4ca5-a4ca-99f4238181d8')\"\n",
              "              title=\"Convert this dataframe to an interactive table.\"\n",
              "              style=\"display:none;\">\n",
              "        \n",
              "  <svg xmlns=\"http://www.w3.org/2000/svg\" height=\"24px\"viewBox=\"0 0 24 24\"\n",
              "       width=\"24px\">\n",
              "    <path d=\"M0 0h24v24H0V0z\" fill=\"none\"/>\n",
              "    <path d=\"M18.56 5.44l.94 2.06.94-2.06 2.06-.94-2.06-.94-.94-2.06-.94 2.06-2.06.94zm-11 1L8.5 8.5l.94-2.06 2.06-.94-2.06-.94L8.5 2.5l-.94 2.06-2.06.94zm10 10l.94 2.06.94-2.06 2.06-.94-2.06-.94-.94-2.06-.94 2.06-2.06.94z\"/><path d=\"M17.41 7.96l-1.37-1.37c-.4-.4-.92-.59-1.43-.59-.52 0-1.04.2-1.43.59L10.3 9.45l-7.72 7.72c-.78.78-.78 2.05 0 2.83L4 21.41c.39.39.9.59 1.41.59.51 0 1.02-.2 1.41-.59l7.78-7.78 2.81-2.81c.8-.78.8-2.07 0-2.86zM5.41 20L4 18.59l7.72-7.72 1.47 1.35L5.41 20z\"/>\n",
              "  </svg>\n",
              "      </button>\n",
              "      \n",
              "  <style>\n",
              "    .colab-df-container {\n",
              "      display:flex;\n",
              "      flex-wrap:wrap;\n",
              "      gap: 12px;\n",
              "    }\n",
              "\n",
              "    .colab-df-convert {\n",
              "      background-color: #E8F0FE;\n",
              "      border: none;\n",
              "      border-radius: 50%;\n",
              "      cursor: pointer;\n",
              "      display: none;\n",
              "      fill: #1967D2;\n",
              "      height: 32px;\n",
              "      padding: 0 0 0 0;\n",
              "      width: 32px;\n",
              "    }\n",
              "\n",
              "    .colab-df-convert:hover {\n",
              "      background-color: #E2EBFA;\n",
              "      box-shadow: 0px 1px 2px rgba(60, 64, 67, 0.3), 0px 1px 3px 1px rgba(60, 64, 67, 0.15);\n",
              "      fill: #174EA6;\n",
              "    }\n",
              "\n",
              "    [theme=dark] .colab-df-convert {\n",
              "      background-color: #3B4455;\n",
              "      fill: #D2E3FC;\n",
              "    }\n",
              "\n",
              "    [theme=dark] .colab-df-convert:hover {\n",
              "      background-color: #434B5C;\n",
              "      box-shadow: 0px 1px 3px 1px rgba(0, 0, 0, 0.15);\n",
              "      filter: drop-shadow(0px 1px 2px rgba(0, 0, 0, 0.3));\n",
              "      fill: #FFFFFF;\n",
              "    }\n",
              "  </style>\n",
              "\n",
              "      <script>\n",
              "        const buttonEl =\n",
              "          document.querySelector('#df-5b1314f6-ad8c-4ca5-a4ca-99f4238181d8 button.colab-df-convert');\n",
              "        buttonEl.style.display =\n",
              "          google.colab.kernel.accessAllowed ? 'block' : 'none';\n",
              "\n",
              "        async function convertToInteractive(key) {\n",
              "          const element = document.querySelector('#df-5b1314f6-ad8c-4ca5-a4ca-99f4238181d8');\n",
              "          const dataTable =\n",
              "            await google.colab.kernel.invokeFunction('convertToInteractive',\n",
              "                                                     [key], {});\n",
              "          if (!dataTable) return;\n",
              "\n",
              "          const docLinkHtml = 'Like what you see? Visit the ' +\n",
              "            '<a target=\"_blank\" href=https://colab.research.google.com/notebooks/data_table.ipynb>data table notebook</a>'\n",
              "            + ' to learn more about interactive tables.';\n",
              "          element.innerHTML = '';\n",
              "          dataTable['output_type'] = 'display_data';\n",
              "          await google.colab.output.renderOutput(dataTable, element);\n",
              "          const docLink = document.createElement('div');\n",
              "          docLink.innerHTML = docLinkHtml;\n",
              "          element.appendChild(docLink);\n",
              "        }\n",
              "      </script>\n",
              "    </div>\n",
              "  </div>\n",
              "  "
            ],
            "text/plain": [
              "         survival  still_alive  age_at_heart_attack  pericardial_effusion  \\\n",
              "count  130.000000   131.000000           126.000000            131.000000   \n",
              "mean    22.182923     0.328244            62.813722              0.183206   \n",
              "std     15.858267     0.471377             8.342110              0.388320   \n",
              "min      0.030000     0.000000            35.000000              0.000000   \n",
              "25%      7.875000     0.000000            57.000000              0.000000   \n",
              "50%     23.500000     0.000000            62.000000              0.000000   \n",
              "75%     33.000000     1.000000            67.750000              0.000000   \n",
              "max     57.000000     1.000000            86.000000              1.000000   \n",
              "\n",
              "       fractional_shortening        epss        lvdd  wall_motion_index  \\\n",
              "count             124.000000  117.000000  121.000000          130.00000   \n",
              "mean                0.216734   12.164769    4.763157            1.37800   \n",
              "std                 0.107513    7.370159    0.810013            0.45185   \n",
              "min                 0.010000    0.000000    2.320000            1.00000   \n",
              "25%                 0.150000    7.000000    4.230000            1.00000   \n",
              "50%                 0.205000   11.000000    4.650000            1.21600   \n",
              "75%                 0.270000   16.100000    5.300000            1.50750   \n",
              "max                 0.610000   40.000000    6.780000            3.00000   \n",
              "\n",
              "       alive_at_1  \n",
              "count   74.000000  \n",
              "mean     0.324324  \n",
              "std      0.471317  \n",
              "min      0.000000  \n",
              "25%      0.000000  \n",
              "50%      0.000000  \n",
              "75%      1.000000  \n",
              "max      1.000000  "
            ]
          },
          "execution_count": 6,
          "metadata": {},
          "output_type": "execute_result"
        }
      ],
      "source": [
        "df.describe(include='all')"
      ]
    },
    {
      "cell_type": "markdown",
      "metadata": {
        "id": "leenLnEvc7vz"
      },
      "source": [
        "# Preprocessing"
      ]
    },
    {
      "cell_type": "code",
      "execution_count": null,
      "metadata": {
        "id": "mpJRqxXhc7vz"
      },
      "outputs": [],
      "source": [
        "df_corrected = df.drop(df[(df['alive_at_1'] == 0 & (df['survival'] < 12))].index)"
      ]
    },
    {
      "cell_type": "code",
      "execution_count": null,
      "metadata": {
        "colab": {
          "base_uri": "https://localhost:8080/"
        },
        "id": "uNbFNWNEc7vz",
        "outputId": "2b6f7293-2958-4363-93dd-cfceceeec4dd"
      },
      "outputs": [
        {
          "data": {
            "text/plain": [
              "survival                  True\n",
              "still_alive              False\n",
              "age_at_heart_attack       True\n",
              "pericardial_effusion     False\n",
              "fractional_shortening     True\n",
              "epss                      True\n",
              "lvdd                      True\n",
              "wall_motion_index         True\n",
              "alive_at_1                True\n",
              "dtype: bool"
            ]
          },
          "execution_count": 9,
          "metadata": {},
          "output_type": "execute_result"
        }
      ],
      "source": [
        "df_corrected.isnull().any()"
      ]
    },
    {
      "cell_type": "code",
      "execution_count": null,
      "metadata": {
        "colab": {
          "base_uri": "https://localhost:8080/"
        },
        "id": "EuaX6l-Uc7v0",
        "outputId": "8127cac3-10d6-4ad2-b903-60d393d65e1e"
      },
      "outputs": [
        {
          "name": "stdout",
          "output_type": "stream",
          "text": [
            "NaN w SURVIVAL: 1\n",
            "NaN w STILL_ALIVE: 0\n"
          ]
        }
      ],
      "source": [
        "print(f\"NaN w SURVIVAL: {df_corrected['survival'].isna().sum()}\")\n",
        "print(f\"NaN w STILL_ALIVE: {df_corrected['still_alive'].isna().sum()}\")"
      ]
    },
    {
      "cell_type": "code",
      "execution_count": null,
      "metadata": {
        "colab": {
          "base_uri": "https://localhost:8080/"
        },
        "id": "uN-7WSl6c7v1",
        "outputId": "cd362e7c-d449-42c4-fb06-f841252a63cd"
      },
      "outputs": [
        {
          "name": "stdout",
          "output_type": "stream",
          "text": [
            "Wymiary danych wstępnie oczyszczonych: (81, 9)\n",
            "Wymiary danych po usunięciu NaN: (17, 9)\n"
          ]
        }
      ],
      "source": [
        "df_wo_nan = df_corrected.dropna()\n",
        "\n",
        "print(f'Wymiary danych wstępnie oczyszczonych: {df_corrected.shape}')\n",
        "print(f'Wymiary danych po usunięciu NaN: {df_wo_nan.shape}')"
      ]
    },
    {
      "cell_type": "markdown",
      "metadata": {
        "id": "N8dgVD0Kc7v1"
      },
      "source": [
        "### Usunęło za dużo danych - potrzebne alternatywne podejście"
      ]
    },
    {
      "cell_type": "code",
      "execution_count": null,
      "metadata": {
        "colab": {
          "base_uri": "https://localhost:8080/",
          "height": 363
        },
        "id": "CDnJ__D0c7v2",
        "outputId": "4f9d10eb-63b6-4844-88bb-8de1c867f145"
      },
      "outputs": [
        {
          "data": {
            "text/html": [
              "\n",
              "  <div id=\"df-1579d904-d253-43e0-a2ae-c43d053ad808\">\n",
              "    <div class=\"colab-df-container\">\n",
              "      <div>\n",
              "<style scoped>\n",
              "    .dataframe tbody tr th:only-of-type {\n",
              "        vertical-align: middle;\n",
              "    }\n",
              "\n",
              "    .dataframe tbody tr th {\n",
              "        vertical-align: top;\n",
              "    }\n",
              "\n",
              "    .dataframe thead th {\n",
              "        text-align: right;\n",
              "    }\n",
              "</style>\n",
              "<table border=\"1\" class=\"dataframe\">\n",
              "  <thead>\n",
              "    <tr style=\"text-align: right;\">\n",
              "      <th></th>\n",
              "      <th>survival</th>\n",
              "      <th>still_alive</th>\n",
              "      <th>age_at_heart_attack</th>\n",
              "      <th>pericardial_effusion</th>\n",
              "      <th>fractional_shortening</th>\n",
              "      <th>epss</th>\n",
              "      <th>lvdd</th>\n",
              "      <th>wall_motion_index</th>\n",
              "      <th>alive_at_1</th>\n",
              "    </tr>\n",
              "  </thead>\n",
              "  <tbody>\n",
              "    <tr>\n",
              "      <th>10</th>\n",
              "      <td>10.00</td>\n",
              "      <td>1</td>\n",
              "      <td>77.000</td>\n",
              "      <td>0</td>\n",
              "      <td>0.13</td>\n",
              "      <td>16.000</td>\n",
              "      <td>4.23</td>\n",
              "      <td>1.800</td>\n",
              "      <td>1.0</td>\n",
              "    </tr>\n",
              "    <tr>\n",
              "      <th>14</th>\n",
              "      <td>0.50</td>\n",
              "      <td>1</td>\n",
              "      <td>62.000</td>\n",
              "      <td>0</td>\n",
              "      <td>0.12</td>\n",
              "      <td>23.000</td>\n",
              "      <td>5.80</td>\n",
              "      <td>2.330</td>\n",
              "      <td>1.0</td>\n",
              "    </tr>\n",
              "    <tr>\n",
              "      <th>16</th>\n",
              "      <td>0.50</td>\n",
              "      <td>1</td>\n",
              "      <td>69.000</td>\n",
              "      <td>1</td>\n",
              "      <td>0.26</td>\n",
              "      <td>11.000</td>\n",
              "      <td>4.65</td>\n",
              "      <td>1.640</td>\n",
              "      <td>1.0</td>\n",
              "    </tr>\n",
              "    <tr>\n",
              "      <th>17</th>\n",
              "      <td>0.50</td>\n",
              "      <td>1</td>\n",
              "      <td>62.529</td>\n",
              "      <td>1</td>\n",
              "      <td>0.07</td>\n",
              "      <td>20.000</td>\n",
              "      <td>5.20</td>\n",
              "      <td>2.000</td>\n",
              "      <td>1.0</td>\n",
              "    </tr>\n",
              "    <tr>\n",
              "      <th>19</th>\n",
              "      <td>1.00</td>\n",
              "      <td>1</td>\n",
              "      <td>66.000</td>\n",
              "      <td>1</td>\n",
              "      <td>0.22</td>\n",
              "      <td>15.000</td>\n",
              "      <td>5.40</td>\n",
              "      <td>2.250</td>\n",
              "      <td>1.0</td>\n",
              "    </tr>\n",
              "    <tr>\n",
              "      <th>20</th>\n",
              "      <td>0.75</td>\n",
              "      <td>1</td>\n",
              "      <td>69.000</td>\n",
              "      <td>0</td>\n",
              "      <td>0.15</td>\n",
              "      <td>12.000</td>\n",
              "      <td>5.39</td>\n",
              "      <td>1.625</td>\n",
              "      <td>1.0</td>\n",
              "    </tr>\n",
              "    <tr>\n",
              "      <th>21</th>\n",
              "      <td>0.75</td>\n",
              "      <td>1</td>\n",
              "      <td>85.000</td>\n",
              "      <td>1</td>\n",
              "      <td>0.18</td>\n",
              "      <td>19.000</td>\n",
              "      <td>5.46</td>\n",
              "      <td>1.380</td>\n",
              "      <td>1.0</td>\n",
              "    </tr>\n",
              "    <tr>\n",
              "      <th>22</th>\n",
              "      <td>0.50</td>\n",
              "      <td>1</td>\n",
              "      <td>73.000</td>\n",
              "      <td>0</td>\n",
              "      <td>0.23</td>\n",
              "      <td>12.733</td>\n",
              "      <td>6.06</td>\n",
              "      <td>1.500</td>\n",
              "      <td>1.0</td>\n",
              "    </tr>\n",
              "    <tr>\n",
              "      <th>23</th>\n",
              "      <td>5.00</td>\n",
              "      <td>1</td>\n",
              "      <td>71.000</td>\n",
              "      <td>0</td>\n",
              "      <td>0.17</td>\n",
              "      <td>0.000</td>\n",
              "      <td>4.65</td>\n",
              "      <td>1.000</td>\n",
              "      <td>1.0</td>\n",
              "    </tr>\n",
              "    <tr>\n",
              "      <th>24</th>\n",
              "      <td>48.00</td>\n",
              "      <td>0</td>\n",
              "      <td>64.000</td>\n",
              "      <td>0</td>\n",
              "      <td>0.19</td>\n",
              "      <td>5.900</td>\n",
              "      <td>3.48</td>\n",
              "      <td>1.110</td>\n",
              "      <td>NaN</td>\n",
              "    </tr>\n",
              "  </tbody>\n",
              "</table>\n",
              "</div>\n",
              "      <button class=\"colab-df-convert\" onclick=\"convertToInteractive('df-1579d904-d253-43e0-a2ae-c43d053ad808')\"\n",
              "              title=\"Convert this dataframe to an interactive table.\"\n",
              "              style=\"display:none;\">\n",
              "        \n",
              "  <svg xmlns=\"http://www.w3.org/2000/svg\" height=\"24px\"viewBox=\"0 0 24 24\"\n",
              "       width=\"24px\">\n",
              "    <path d=\"M0 0h24v24H0V0z\" fill=\"none\"/>\n",
              "    <path d=\"M18.56 5.44l.94 2.06.94-2.06 2.06-.94-2.06-.94-.94-2.06-.94 2.06-2.06.94zm-11 1L8.5 8.5l.94-2.06 2.06-.94-2.06-.94L8.5 2.5l-.94 2.06-2.06.94zm10 10l.94 2.06.94-2.06 2.06-.94-2.06-.94-.94-2.06-.94 2.06-2.06.94z\"/><path d=\"M17.41 7.96l-1.37-1.37c-.4-.4-.92-.59-1.43-.59-.52 0-1.04.2-1.43.59L10.3 9.45l-7.72 7.72c-.78.78-.78 2.05 0 2.83L4 21.41c.39.39.9.59 1.41.59.51 0 1.02-.2 1.41-.59l7.78-7.78 2.81-2.81c.8-.78.8-2.07 0-2.86zM5.41 20L4 18.59l7.72-7.72 1.47 1.35L5.41 20z\"/>\n",
              "  </svg>\n",
              "      </button>\n",
              "      \n",
              "  <style>\n",
              "    .colab-df-container {\n",
              "      display:flex;\n",
              "      flex-wrap:wrap;\n",
              "      gap: 12px;\n",
              "    }\n",
              "\n",
              "    .colab-df-convert {\n",
              "      background-color: #E8F0FE;\n",
              "      border: none;\n",
              "      border-radius: 50%;\n",
              "      cursor: pointer;\n",
              "      display: none;\n",
              "      fill: #1967D2;\n",
              "      height: 32px;\n",
              "      padding: 0 0 0 0;\n",
              "      width: 32px;\n",
              "    }\n",
              "\n",
              "    .colab-df-convert:hover {\n",
              "      background-color: #E2EBFA;\n",
              "      box-shadow: 0px 1px 2px rgba(60, 64, 67, 0.3), 0px 1px 3px 1px rgba(60, 64, 67, 0.15);\n",
              "      fill: #174EA6;\n",
              "    }\n",
              "\n",
              "    [theme=dark] .colab-df-convert {\n",
              "      background-color: #3B4455;\n",
              "      fill: #D2E3FC;\n",
              "    }\n",
              "\n",
              "    [theme=dark] .colab-df-convert:hover {\n",
              "      background-color: #434B5C;\n",
              "      box-shadow: 0px 1px 3px 1px rgba(0, 0, 0, 0.15);\n",
              "      filter: drop-shadow(0px 1px 2px rgba(0, 0, 0, 0.3));\n",
              "      fill: #FFFFFF;\n",
              "    }\n",
              "  </style>\n",
              "\n",
              "      <script>\n",
              "        const buttonEl =\n",
              "          document.querySelector('#df-1579d904-d253-43e0-a2ae-c43d053ad808 button.colab-df-convert');\n",
              "        buttonEl.style.display =\n",
              "          google.colab.kernel.accessAllowed ? 'block' : 'none';\n",
              "\n",
              "        async function convertToInteractive(key) {\n",
              "          const element = document.querySelector('#df-1579d904-d253-43e0-a2ae-c43d053ad808');\n",
              "          const dataTable =\n",
              "            await google.colab.kernel.invokeFunction('convertToInteractive',\n",
              "                                                     [key], {});\n",
              "          if (!dataTable) return;\n",
              "\n",
              "          const docLinkHtml = 'Like what you see? Visit the ' +\n",
              "            '<a target=\"_blank\" href=https://colab.research.google.com/notebooks/data_table.ipynb>data table notebook</a>'\n",
              "            + ' to learn more about interactive tables.';\n",
              "          element.innerHTML = '';\n",
              "          dataTable['output_type'] = 'display_data';\n",
              "          await google.colab.output.renderOutput(dataTable, element);\n",
              "          const docLink = document.createElement('div');\n",
              "          docLink.innerHTML = docLinkHtml;\n",
              "          element.appendChild(docLink);\n",
              "        }\n",
              "      </script>\n",
              "    </div>\n",
              "  </div>\n",
              "  "
            ],
            "text/plain": [
              "    survival  still_alive  age_at_heart_attack  pericardial_effusion  \\\n",
              "10     10.00            1               77.000                     0   \n",
              "14      0.50            1               62.000                     0   \n",
              "16      0.50            1               69.000                     1   \n",
              "17      0.50            1               62.529                     1   \n",
              "19      1.00            1               66.000                     1   \n",
              "20      0.75            1               69.000                     0   \n",
              "21      0.75            1               85.000                     1   \n",
              "22      0.50            1               73.000                     0   \n",
              "23      5.00            1               71.000                     0   \n",
              "24     48.00            0               64.000                     0   \n",
              "\n",
              "    fractional_shortening    epss  lvdd  wall_motion_index  alive_at_1  \n",
              "10                   0.13  16.000  4.23              1.800         1.0  \n",
              "14                   0.12  23.000  5.80              2.330         1.0  \n",
              "16                   0.26  11.000  4.65              1.640         1.0  \n",
              "17                   0.07  20.000  5.20              2.000         1.0  \n",
              "19                   0.22  15.000  5.40              2.250         1.0  \n",
              "20                   0.15  12.000  5.39              1.625         1.0  \n",
              "21                   0.18  19.000  5.46              1.380         1.0  \n",
              "22                   0.23  12.733  6.06              1.500         1.0  \n",
              "23                   0.17   0.000  4.65              1.000         1.0  \n",
              "24                   0.19   5.900  3.48              1.110         NaN  "
            ]
          },
          "execution_count": 12,
          "metadata": {},
          "output_type": "execute_result"
        }
      ],
      "source": [
        "#  Usunięcie wierszy, które mają NaN w SURVIVAL\n",
        "\n",
        "df_droped_ssa = df_corrected.dropna(subset=['survival'])\n",
        "\n",
        "df_droped_ssa.shape\n",
        "df_droped_ssa.head(10)"
      ]
    },
    {
      "cell_type": "code",
      "execution_count": null,
      "metadata": {
        "colab": {
          "base_uri": "https://localhost:8080/"
        },
        "id": "dsGQey9Xc7v3",
        "outputId": "d4db631e-0478-4861-d5ea-04aac14ade22"
      },
      "outputs": [
        {
          "data": {
            "text/plain": [
              "survival                 False\n",
              "still_alive              False\n",
              "age_at_heart_attack       True\n",
              "pericardial_effusion     False\n",
              "fractional_shortening     True\n",
              "epss                      True\n",
              "lvdd                      True\n",
              "wall_motion_index         True\n",
              "alive_at_1                True\n",
              "dtype: bool"
            ]
          },
          "execution_count": 13,
          "metadata": {},
          "output_type": "execute_result"
        }
      ],
      "source": [
        "df_droped_ssa.isnull().any()"
      ]
    },
    {
      "cell_type": "markdown",
      "metadata": {
        "id": "kwPnXn8pIe0l"
      },
      "source": [
        "# Podział danych na dyskretne i ciągłe (z uwzględnieniem wartości odstających)"
      ]
    },
    {
      "cell_type": "code",
      "execution_count": null,
      "metadata": {
        "id": "WUdcp2C0c7v3"
      },
      "outputs": [],
      "source": [
        "discrete = ['pericardial_effusion']\n",
        "continuous = df_droped_ssa.drop(['pericardial_effusion', 'still_alive', 'alive_at_1'], axis=1).columns\n",
        "label = ['still_alive']"
      ]
    },
    {
      "cell_type": "code",
      "execution_count": null,
      "metadata": {
        "id": "M20nYyzIc7v3"
      },
      "outputs": [],
      "source": [
        "# for feature in continuous:\n",
        "#     df_droped_ssa.boxplot(feature)\n",
        "#     plt.title(feature)\n",
        "#     plt.show()"
      ]
    },
    {
      "cell_type": "code",
      "execution_count": null,
      "metadata": {
        "colab": {
          "base_uri": "https://localhost:8080/",
          "height": 300
        },
        "id": "_25C5Zhvc7v3",
        "outputId": "130a85de-2ad6-46a3-b7a1-32ea55e4809b"
      },
      "outputs": [
        {
          "data": {
            "text/html": [
              "\n",
              "  <div id=\"df-5090782d-4d91-481a-a878-899b755fe479\">\n",
              "    <div class=\"colab-df-container\">\n",
              "      <div>\n",
              "<style scoped>\n",
              "    .dataframe tbody tr th:only-of-type {\n",
              "        vertical-align: middle;\n",
              "    }\n",
              "\n",
              "    .dataframe tbody tr th {\n",
              "        vertical-align: top;\n",
              "    }\n",
              "\n",
              "    .dataframe thead th {\n",
              "        text-align: right;\n",
              "    }\n",
              "</style>\n",
              "<table border=\"1\" class=\"dataframe\">\n",
              "  <thead>\n",
              "    <tr style=\"text-align: right;\">\n",
              "      <th></th>\n",
              "      <th>survival</th>\n",
              "      <th>still_alive</th>\n",
              "      <th>age_at_heart_attack</th>\n",
              "      <th>pericardial_effusion</th>\n",
              "      <th>fractional_shortening</th>\n",
              "      <th>epss</th>\n",
              "      <th>lvdd</th>\n",
              "      <th>wall_motion_index</th>\n",
              "      <th>alive_at_1</th>\n",
              "    </tr>\n",
              "  </thead>\n",
              "  <tbody>\n",
              "    <tr>\n",
              "      <th>count</th>\n",
              "      <td>80.000000</td>\n",
              "      <td>80.000000</td>\n",
              "      <td>75.000000</td>\n",
              "      <td>80.000000</td>\n",
              "      <td>75.000000</td>\n",
              "      <td>71.000000</td>\n",
              "      <td>72.000000</td>\n",
              "      <td>79.000000</td>\n",
              "      <td>23.0</td>\n",
              "    </tr>\n",
              "    <tr>\n",
              "      <th>mean</th>\n",
              "      <td>16.753500</td>\n",
              "      <td>0.462500</td>\n",
              "      <td>62.767053</td>\n",
              "      <td>0.212500</td>\n",
              "      <td>0.201413</td>\n",
              "      <td>12.924690</td>\n",
              "      <td>4.849583</td>\n",
              "      <td>1.446684</td>\n",
              "      <td>1.0</td>\n",
              "    </tr>\n",
              "    <tr>\n",
              "      <th>std</th>\n",
              "      <td>14.566112</td>\n",
              "      <td>0.501737</td>\n",
              "      <td>8.667392</td>\n",
              "      <td>0.411658</td>\n",
              "      <td>0.100239</td>\n",
              "      <td>8.170525</td>\n",
              "      <td>0.859455</td>\n",
              "      <td>0.501228</td>\n",
              "      <td>0.0</td>\n",
              "    </tr>\n",
              "    <tr>\n",
              "      <th>min</th>\n",
              "      <td>0.030000</td>\n",
              "      <td>0.000000</td>\n",
              "      <td>35.000000</td>\n",
              "      <td>0.000000</td>\n",
              "      <td>0.010000</td>\n",
              "      <td>0.000000</td>\n",
              "      <td>2.320000</td>\n",
              "      <td>1.000000</td>\n",
              "      <td>1.0</td>\n",
              "    </tr>\n",
              "    <tr>\n",
              "      <th>25%</th>\n",
              "      <td>1.000000</td>\n",
              "      <td>0.000000</td>\n",
              "      <td>58.500000</td>\n",
              "      <td>0.000000</td>\n",
              "      <td>0.140000</td>\n",
              "      <td>7.000000</td>\n",
              "      <td>4.360000</td>\n",
              "      <td>1.000000</td>\n",
              "      <td>1.0</td>\n",
              "    </tr>\n",
              "    <tr>\n",
              "      <th>50%</th>\n",
              "      <td>16.000000</td>\n",
              "      <td>0.000000</td>\n",
              "      <td>62.000000</td>\n",
              "      <td>0.000000</td>\n",
              "      <td>0.190000</td>\n",
              "      <td>11.800000</td>\n",
              "      <td>4.780000</td>\n",
              "      <td>1.360000</td>\n",
              "      <td>1.0</td>\n",
              "    </tr>\n",
              "    <tr>\n",
              "      <th>75%</th>\n",
              "      <td>31.000000</td>\n",
              "      <td>1.000000</td>\n",
              "      <td>67.000000</td>\n",
              "      <td>0.000000</td>\n",
              "      <td>0.260000</td>\n",
              "      <td>16.850000</td>\n",
              "      <td>5.360000</td>\n",
              "      <td>1.653500</td>\n",
              "      <td>1.0</td>\n",
              "    </tr>\n",
              "    <tr>\n",
              "      <th>max</th>\n",
              "      <td>48.000000</td>\n",
              "      <td>1.000000</td>\n",
              "      <td>86.000000</td>\n",
              "      <td>1.000000</td>\n",
              "      <td>0.500000</td>\n",
              "      <td>40.000000</td>\n",
              "      <td>6.780000</td>\n",
              "      <td>3.000000</td>\n",
              "      <td>1.0</td>\n",
              "    </tr>\n",
              "  </tbody>\n",
              "</table>\n",
              "</div>\n",
              "      <button class=\"colab-df-convert\" onclick=\"convertToInteractive('df-5090782d-4d91-481a-a878-899b755fe479')\"\n",
              "              title=\"Convert this dataframe to an interactive table.\"\n",
              "              style=\"display:none;\">\n",
              "        \n",
              "  <svg xmlns=\"http://www.w3.org/2000/svg\" height=\"24px\"viewBox=\"0 0 24 24\"\n",
              "       width=\"24px\">\n",
              "    <path d=\"M0 0h24v24H0V0z\" fill=\"none\"/>\n",
              "    <path d=\"M18.56 5.44l.94 2.06.94-2.06 2.06-.94-2.06-.94-.94-2.06-.94 2.06-2.06.94zm-11 1L8.5 8.5l.94-2.06 2.06-.94-2.06-.94L8.5 2.5l-.94 2.06-2.06.94zm10 10l.94 2.06.94-2.06 2.06-.94-2.06-.94-.94-2.06-.94 2.06-2.06.94z\"/><path d=\"M17.41 7.96l-1.37-1.37c-.4-.4-.92-.59-1.43-.59-.52 0-1.04.2-1.43.59L10.3 9.45l-7.72 7.72c-.78.78-.78 2.05 0 2.83L4 21.41c.39.39.9.59 1.41.59.51 0 1.02-.2 1.41-.59l7.78-7.78 2.81-2.81c.8-.78.8-2.07 0-2.86zM5.41 20L4 18.59l7.72-7.72 1.47 1.35L5.41 20z\"/>\n",
              "  </svg>\n",
              "      </button>\n",
              "      \n",
              "  <style>\n",
              "    .colab-df-container {\n",
              "      display:flex;\n",
              "      flex-wrap:wrap;\n",
              "      gap: 12px;\n",
              "    }\n",
              "\n",
              "    .colab-df-convert {\n",
              "      background-color: #E8F0FE;\n",
              "      border: none;\n",
              "      border-radius: 50%;\n",
              "      cursor: pointer;\n",
              "      display: none;\n",
              "      fill: #1967D2;\n",
              "      height: 32px;\n",
              "      padding: 0 0 0 0;\n",
              "      width: 32px;\n",
              "    }\n",
              "\n",
              "    .colab-df-convert:hover {\n",
              "      background-color: #E2EBFA;\n",
              "      box-shadow: 0px 1px 2px rgba(60, 64, 67, 0.3), 0px 1px 3px 1px rgba(60, 64, 67, 0.15);\n",
              "      fill: #174EA6;\n",
              "    }\n",
              "\n",
              "    [theme=dark] .colab-df-convert {\n",
              "      background-color: #3B4455;\n",
              "      fill: #D2E3FC;\n",
              "    }\n",
              "\n",
              "    [theme=dark] .colab-df-convert:hover {\n",
              "      background-color: #434B5C;\n",
              "      box-shadow: 0px 1px 3px 1px rgba(0, 0, 0, 0.15);\n",
              "      filter: drop-shadow(0px 1px 2px rgba(0, 0, 0, 0.3));\n",
              "      fill: #FFFFFF;\n",
              "    }\n",
              "  </style>\n",
              "\n",
              "      <script>\n",
              "        const buttonEl =\n",
              "          document.querySelector('#df-5090782d-4d91-481a-a878-899b755fe479 button.colab-df-convert');\n",
              "        buttonEl.style.display =\n",
              "          google.colab.kernel.accessAllowed ? 'block' : 'none';\n",
              "\n",
              "        async function convertToInteractive(key) {\n",
              "          const element = document.querySelector('#df-5090782d-4d91-481a-a878-899b755fe479');\n",
              "          const dataTable =\n",
              "            await google.colab.kernel.invokeFunction('convertToInteractive',\n",
              "                                                     [key], {});\n",
              "          if (!dataTable) return;\n",
              "\n",
              "          const docLinkHtml = 'Like what you see? Visit the ' +\n",
              "            '<a target=\"_blank\" href=https://colab.research.google.com/notebooks/data_table.ipynb>data table notebook</a>'\n",
              "            + ' to learn more about interactive tables.';\n",
              "          element.innerHTML = '';\n",
              "          dataTable['output_type'] = 'display_data';\n",
              "          await google.colab.output.renderOutput(dataTable, element);\n",
              "          const docLink = document.createElement('div');\n",
              "          docLink.innerHTML = docLinkHtml;\n",
              "          element.appendChild(docLink);\n",
              "        }\n",
              "      </script>\n",
              "    </div>\n",
              "  </div>\n",
              "  "
            ],
            "text/plain": [
              "        survival  still_alive  age_at_heart_attack  pericardial_effusion  \\\n",
              "count  80.000000    80.000000            75.000000             80.000000   \n",
              "mean   16.753500     0.462500            62.767053              0.212500   \n",
              "std    14.566112     0.501737             8.667392              0.411658   \n",
              "min     0.030000     0.000000            35.000000              0.000000   \n",
              "25%     1.000000     0.000000            58.500000              0.000000   \n",
              "50%    16.000000     0.000000            62.000000              0.000000   \n",
              "75%    31.000000     1.000000            67.000000              0.000000   \n",
              "max    48.000000     1.000000            86.000000              1.000000   \n",
              "\n",
              "       fractional_shortening       epss       lvdd  wall_motion_index  \\\n",
              "count              75.000000  71.000000  72.000000          79.000000   \n",
              "mean                0.201413  12.924690   4.849583           1.446684   \n",
              "std                 0.100239   8.170525   0.859455           0.501228   \n",
              "min                 0.010000   0.000000   2.320000           1.000000   \n",
              "25%                 0.140000   7.000000   4.360000           1.000000   \n",
              "50%                 0.190000  11.800000   4.780000           1.360000   \n",
              "75%                 0.260000  16.850000   5.360000           1.653500   \n",
              "max                 0.500000  40.000000   6.780000           3.000000   \n",
              "\n",
              "       alive_at_1  \n",
              "count        23.0  \n",
              "mean          1.0  \n",
              "std           0.0  \n",
              "min           1.0  \n",
              "25%           1.0  \n",
              "50%           1.0  \n",
              "75%           1.0  \n",
              "max           1.0  "
            ]
          },
          "execution_count": 16,
          "metadata": {},
          "output_type": "execute_result"
        }
      ],
      "source": [
        "df_droped_ssa.describe(include='all')"
      ]
    },
    {
      "cell_type": "code",
      "execution_count": null,
      "metadata": {
        "id": "1C7frPDQc7v4"
      },
      "outputs": [],
      "source": [
        "outliers = ['wall_motion_index']"
      ]
    },
    {
      "cell_type": "code",
      "execution_count": null,
      "metadata": {
        "colab": {
          "base_uri": "https://localhost:8080/"
        },
        "id": "481hSpM8c7v4",
        "outputId": "765e0bc8-9893-4e8a-c296-a75604890e5f"
      },
      "outputs": [
        {
          "name": "stderr",
          "output_type": "stream",
          "text": [
            "<ipython-input-18-dcd3f2f90202>:5: SettingWithCopyWarning: \n",
            "A value is trying to be set on a copy of a slice from a DataFrame\n",
            "\n",
            "See the caveats in the documentation: https://pandas.pydata.org/pandas-docs/stable/user_guide/indexing.html#returning-a-view-versus-a-copy\n",
            "  df_droped_ssa[feature].fillna(df_droped_ssa[feature].mean(), inplace=True)\n",
            "<ipython-input-18-dcd3f2f90202>:3: SettingWithCopyWarning: \n",
            "A value is trying to be set on a copy of a slice from a DataFrame\n",
            "\n",
            "See the caveats in the documentation: https://pandas.pydata.org/pandas-docs/stable/user_guide/indexing.html#returning-a-view-versus-a-copy\n",
            "  df_droped_ssa[feature].fillna(df_droped_ssa[feature].median(), inplace=True)\n",
            "<ipython-input-18-dcd3f2f90202>:7: SettingWithCopyWarning: \n",
            "A value is trying to be set on a copy of a slice from a DataFrame\n",
            "\n",
            "See the caveats in the documentation: https://pandas.pydata.org/pandas-docs/stable/user_guide/indexing.html#returning-a-view-versus-a-copy\n",
            "  df_droped_ssa.drop(['alive_at_1'], axis=1, inplace=True)\n"
          ]
        },
        {
          "data": {
            "text/plain": [
              "survival                 False\n",
              "still_alive              False\n",
              "age_at_heart_attack      False\n",
              "pericardial_effusion     False\n",
              "fractional_shortening    False\n",
              "epss                     False\n",
              "lvdd                     False\n",
              "wall_motion_index        False\n",
              "dtype: bool"
            ]
          },
          "execution_count": 18,
          "metadata": {},
          "output_type": "execute_result"
        }
      ],
      "source": [
        "for feature in continuous:\n",
        "    if feature in outliers:\n",
        "        df_droped_ssa[feature].fillna(df_droped_ssa[feature].median(), inplace=True)\n",
        "    else:\n",
        "        df_droped_ssa[feature].fillna(df_droped_ssa[feature].mean(), inplace=True)\n",
        "\n",
        "df_droped_ssa.drop(['alive_at_1'], axis=1, inplace=True)\n",
        "df_droped_ssa.isna().any()"
      ]
    },
    {
      "cell_type": "markdown",
      "metadata": {
        "id": "6GsDY7ntIuqz"
      },
      "source": [
        "Wartości NaN dla kolumn zawierających wartości odstające zostają uzupełnione medianą, reszta średnią."
      ]
    },
    {
      "cell_type": "code",
      "execution_count": null,
      "metadata": {
        "id": "uybARmPkc7v4"
      },
      "outputs": [],
      "source": [
        "from sklearn.neighbors import LocalOutlierFactor\n",
        "lof = LocalOutlierFactor()\n",
        "outliers_rows = lof.fit_predict(df_droped_ssa)"
      ]
    },
    {
      "cell_type": "code",
      "execution_count": null,
      "metadata": {
        "colab": {
          "base_uri": "https://localhost:8080/"
        },
        "id": "vG05a5Mac7v4",
        "outputId": "575c3e63-1bbe-48a1-e325-a77db8901576"
      },
      "outputs": [
        {
          "data": {
            "text/plain": [
              "survival                 0\n",
              "still_alive              0\n",
              "age_at_heart_attack      0\n",
              "pericardial_effusion     0\n",
              "fractional_shortening    0\n",
              "epss                     0\n",
              "lvdd                     0\n",
              "wall_motion_index        0\n",
              "dtype: int64"
            ]
          },
          "execution_count": 20,
          "metadata": {},
          "output_type": "execute_result"
        }
      ],
      "source": [
        "mask = outliers_rows != -1\n",
        "\n",
        "df_droped_ssa.isnull().sum()"
      ]
    },
    {
      "cell_type": "markdown",
      "metadata": {
        "id": "Bq5wVVCXc7v4"
      },
      "source": [
        "# Podział danych na zbiory"
      ]
    },
    {
      "cell_type": "code",
      "execution_count": null,
      "metadata": {
        "id": "sw76xD1rc7v4"
      },
      "outputs": [],
      "source": [
        "from sklearn.model_selection import train_test_split\n",
        "from sklearn.preprocessing import StandardScaler"
      ]
    },
    {
      "cell_type": "code",
      "execution_count": null,
      "metadata": {
        "id": "Mn6ntpzIc7v4"
      },
      "outputs": [],
      "source": [
        "df_droped_ssa = df_droped_ssa[mask]"
      ]
    },
    {
      "cell_type": "code",
      "execution_count": null,
      "metadata": {
        "id": "eHKp6aCqc7v5"
      },
      "outputs": [],
      "source": [
        "df_final = pd.get_dummies(df_droped_ssa, columns = discrete, drop_first = True)\n",
        "scaler = StandardScaler()\n",
        "df_final[continuous] = scaler.fit_transform(df_final[continuous])"
      ]
    },
    {
      "cell_type": "code",
      "execution_count": null,
      "metadata": {
        "colab": {
          "base_uri": "https://localhost:8080/",
          "height": 363
        },
        "id": "BCxz0C5Zc7v5",
        "outputId": "7641fe86-17f3-44fc-d35e-480ae51366b5"
      },
      "outputs": [
        {
          "data": {
            "text/html": [
              "\n",
              "  <div id=\"df-3030597a-69a7-4262-82f8-163d1535c836\">\n",
              "    <div class=\"colab-df-container\">\n",
              "      <div>\n",
              "<style scoped>\n",
              "    .dataframe tbody tr th:only-of-type {\n",
              "        vertical-align: middle;\n",
              "    }\n",
              "\n",
              "    .dataframe tbody tr th {\n",
              "        vertical-align: top;\n",
              "    }\n",
              "\n",
              "    .dataframe thead th {\n",
              "        text-align: right;\n",
              "    }\n",
              "</style>\n",
              "<table border=\"1\" class=\"dataframe\">\n",
              "  <thead>\n",
              "    <tr style=\"text-align: right;\">\n",
              "      <th></th>\n",
              "      <th>survival</th>\n",
              "      <th>still_alive</th>\n",
              "      <th>age_at_heart_attack</th>\n",
              "      <th>fractional_shortening</th>\n",
              "      <th>epss</th>\n",
              "      <th>lvdd</th>\n",
              "      <th>wall_motion_index</th>\n",
              "      <th>pericardial_effusion_1</th>\n",
              "    </tr>\n",
              "  </thead>\n",
              "  <tbody>\n",
              "    <tr>\n",
              "      <th>10</th>\n",
              "      <td>-0.501329</td>\n",
              "      <td>1</td>\n",
              "      <td>2.158795</td>\n",
              "      <td>-0.710432</td>\n",
              "      <td>0.478508</td>\n",
              "      <td>-0.740287</td>\n",
              "      <td>0.716144</td>\n",
              "      <td>0</td>\n",
              "    </tr>\n",
              "    <tr>\n",
              "      <th>14</th>\n",
              "      <td>-1.160000</td>\n",
              "      <td>1</td>\n",
              "      <td>-0.049125</td>\n",
              "      <td>-0.812342</td>\n",
              "      <td>1.464339</td>\n",
              "      <td>1.204188</td>\n",
              "      <td>1.780111</td>\n",
              "      <td>0</td>\n",
              "    </tr>\n",
              "    <tr>\n",
              "      <th>16</th>\n",
              "      <td>-1.160000</td>\n",
              "      <td>1</td>\n",
              "      <td>0.981238</td>\n",
              "      <td>0.614404</td>\n",
              "      <td>-0.225657</td>\n",
              "      <td>-0.220109</td>\n",
              "      <td>0.394946</td>\n",
              "      <td>1</td>\n",
              "    </tr>\n",
              "    <tr>\n",
              "      <th>17</th>\n",
              "      <td>-1.160000</td>\n",
              "      <td>1</td>\n",
              "      <td>0.028741</td>\n",
              "      <td>-1.321895</td>\n",
              "      <td>1.041840</td>\n",
              "      <td>0.461077</td>\n",
              "      <td>1.117641</td>\n",
              "      <td>1</td>\n",
              "    </tr>\n",
              "    <tr>\n",
              "      <th>19</th>\n",
              "      <td>-1.125334</td>\n",
              "      <td>1</td>\n",
              "      <td>0.539654</td>\n",
              "      <td>0.206762</td>\n",
              "      <td>0.337675</td>\n",
              "      <td>0.708780</td>\n",
              "      <td>1.619512</td>\n",
              "      <td>1</td>\n",
              "    </tr>\n",
              "    <tr>\n",
              "      <th>20</th>\n",
              "      <td>-1.142667</td>\n",
              "      <td>1</td>\n",
              "      <td>0.981238</td>\n",
              "      <td>-0.506611</td>\n",
              "      <td>-0.084824</td>\n",
              "      <td>0.696395</td>\n",
              "      <td>0.364834</td>\n",
              "      <td>0</td>\n",
              "    </tr>\n",
              "    <tr>\n",
              "      <th>22</th>\n",
              "      <td>-1.160000</td>\n",
              "      <td>1</td>\n",
              "      <td>1.570017</td>\n",
              "      <td>0.308672</td>\n",
              "      <td>0.018406</td>\n",
              "      <td>1.526203</td>\n",
              "      <td>0.113898</td>\n",
              "      <td>0</td>\n",
              "    </tr>\n",
              "    <tr>\n",
              "      <th>23</th>\n",
              "      <td>-0.847998</td>\n",
              "      <td>1</td>\n",
              "      <td>1.275627</td>\n",
              "      <td>-0.302790</td>\n",
              "      <td>-1.774821</td>\n",
              "      <td>-0.220109</td>\n",
              "      <td>-0.889844</td>\n",
              "      <td>0</td>\n",
              "    </tr>\n",
              "    <tr>\n",
              "      <th>24</th>\n",
              "      <td>2.133356</td>\n",
              "      <td>0</td>\n",
              "      <td>0.245265</td>\n",
              "      <td>-0.098969</td>\n",
              "      <td>-0.943906</td>\n",
              "      <td>-1.669176</td>\n",
              "      <td>-0.669021</td>\n",
              "      <td>0</td>\n",
              "    </tr>\n",
              "    <tr>\n",
              "      <th>25</th>\n",
              "      <td>0.816013</td>\n",
              "      <td>0</td>\n",
              "      <td>-1.226682</td>\n",
              "      <td>1.022046</td>\n",
              "      <td>-0.788990</td>\n",
              "      <td>-1.210924</td>\n",
              "      <td>0.449148</td>\n",
              "      <td>0</td>\n",
              "    </tr>\n",
              "  </tbody>\n",
              "</table>\n",
              "</div>\n",
              "      <button class=\"colab-df-convert\" onclick=\"convertToInteractive('df-3030597a-69a7-4262-82f8-163d1535c836')\"\n",
              "              title=\"Convert this dataframe to an interactive table.\"\n",
              "              style=\"display:none;\">\n",
              "        \n",
              "  <svg xmlns=\"http://www.w3.org/2000/svg\" height=\"24px\"viewBox=\"0 0 24 24\"\n",
              "       width=\"24px\">\n",
              "    <path d=\"M0 0h24v24H0V0z\" fill=\"none\"/>\n",
              "    <path d=\"M18.56 5.44l.94 2.06.94-2.06 2.06-.94-2.06-.94-.94-2.06-.94 2.06-2.06.94zm-11 1L8.5 8.5l.94-2.06 2.06-.94-2.06-.94L8.5 2.5l-.94 2.06-2.06.94zm10 10l.94 2.06.94-2.06 2.06-.94-2.06-.94-.94-2.06-.94 2.06-2.06.94z\"/><path d=\"M17.41 7.96l-1.37-1.37c-.4-.4-.92-.59-1.43-.59-.52 0-1.04.2-1.43.59L10.3 9.45l-7.72 7.72c-.78.78-.78 2.05 0 2.83L4 21.41c.39.39.9.59 1.41.59.51 0 1.02-.2 1.41-.59l7.78-7.78 2.81-2.81c.8-.78.8-2.07 0-2.86zM5.41 20L4 18.59l7.72-7.72 1.47 1.35L5.41 20z\"/>\n",
              "  </svg>\n",
              "      </button>\n",
              "      \n",
              "  <style>\n",
              "    .colab-df-container {\n",
              "      display:flex;\n",
              "      flex-wrap:wrap;\n",
              "      gap: 12px;\n",
              "    }\n",
              "\n",
              "    .colab-df-convert {\n",
              "      background-color: #E8F0FE;\n",
              "      border: none;\n",
              "      border-radius: 50%;\n",
              "      cursor: pointer;\n",
              "      display: none;\n",
              "      fill: #1967D2;\n",
              "      height: 32px;\n",
              "      padding: 0 0 0 0;\n",
              "      width: 32px;\n",
              "    }\n",
              "\n",
              "    .colab-df-convert:hover {\n",
              "      background-color: #E2EBFA;\n",
              "      box-shadow: 0px 1px 2px rgba(60, 64, 67, 0.3), 0px 1px 3px 1px rgba(60, 64, 67, 0.15);\n",
              "      fill: #174EA6;\n",
              "    }\n",
              "\n",
              "    [theme=dark] .colab-df-convert {\n",
              "      background-color: #3B4455;\n",
              "      fill: #D2E3FC;\n",
              "    }\n",
              "\n",
              "    [theme=dark] .colab-df-convert:hover {\n",
              "      background-color: #434B5C;\n",
              "      box-shadow: 0px 1px 3px 1px rgba(0, 0, 0, 0.15);\n",
              "      filter: drop-shadow(0px 1px 2px rgba(0, 0, 0, 0.3));\n",
              "      fill: #FFFFFF;\n",
              "    }\n",
              "  </style>\n",
              "\n",
              "      <script>\n",
              "        const buttonEl =\n",
              "          document.querySelector('#df-3030597a-69a7-4262-82f8-163d1535c836 button.colab-df-convert');\n",
              "        buttonEl.style.display =\n",
              "          google.colab.kernel.accessAllowed ? 'block' : 'none';\n",
              "\n",
              "        async function convertToInteractive(key) {\n",
              "          const element = document.querySelector('#df-3030597a-69a7-4262-82f8-163d1535c836');\n",
              "          const dataTable =\n",
              "            await google.colab.kernel.invokeFunction('convertToInteractive',\n",
              "                                                     [key], {});\n",
              "          if (!dataTable) return;\n",
              "\n",
              "          const docLinkHtml = 'Like what you see? Visit the ' +\n",
              "            '<a target=\"_blank\" href=https://colab.research.google.com/notebooks/data_table.ipynb>data table notebook</a>'\n",
              "            + ' to learn more about interactive tables.';\n",
              "          element.innerHTML = '';\n",
              "          dataTable['output_type'] = 'display_data';\n",
              "          await google.colab.output.renderOutput(dataTable, element);\n",
              "          const docLink = document.createElement('div');\n",
              "          docLink.innerHTML = docLinkHtml;\n",
              "          element.appendChild(docLink);\n",
              "        }\n",
              "      </script>\n",
              "    </div>\n",
              "  </div>\n",
              "  "
            ],
            "text/plain": [
              "    survival  still_alive  age_at_heart_attack  fractional_shortening  \\\n",
              "10 -0.501329            1             2.158795              -0.710432   \n",
              "14 -1.160000            1            -0.049125              -0.812342   \n",
              "16 -1.160000            1             0.981238               0.614404   \n",
              "17 -1.160000            1             0.028741              -1.321895   \n",
              "19 -1.125334            1             0.539654               0.206762   \n",
              "20 -1.142667            1             0.981238              -0.506611   \n",
              "22 -1.160000            1             1.570017               0.308672   \n",
              "23 -0.847998            1             1.275627              -0.302790   \n",
              "24  2.133356            0             0.245265              -0.098969   \n",
              "25  0.816013            0            -1.226682               1.022046   \n",
              "\n",
              "        epss      lvdd  wall_motion_index  pericardial_effusion_1  \n",
              "10  0.478508 -0.740287           0.716144                       0  \n",
              "14  1.464339  1.204188           1.780111                       0  \n",
              "16 -0.225657 -0.220109           0.394946                       1  \n",
              "17  1.041840  0.461077           1.117641                       1  \n",
              "19  0.337675  0.708780           1.619512                       1  \n",
              "20 -0.084824  0.696395           0.364834                       0  \n",
              "22  0.018406  1.526203           0.113898                       0  \n",
              "23 -1.774821 -0.220109          -0.889844                       0  \n",
              "24 -0.943906 -1.669176          -0.669021                       0  \n",
              "25 -0.788990 -1.210924           0.449148                       0  "
            ]
          },
          "execution_count": 24,
          "metadata": {},
          "output_type": "execute_result"
        }
      ],
      "source": [
        "df_final.head(10)"
      ]
    },
    {
      "cell_type": "markdown",
      "metadata": {
        "id": "QLSDSRhaoW9b"
      },
      "source": [
        "## Dane ustandaryzowane"
      ]
    },
    {
      "cell_type": "code",
      "execution_count": null,
      "metadata": {
        "id": "XrqDOIQFc7v5"
      },
      "outputs": [],
      "source": [
        "X = df_final.drop(['still_alive'], axis=1)\n",
        "y = df_final['still_alive']"
      ]
    },
    {
      "cell_type": "code",
      "execution_count": null,
      "metadata": {
        "colab": {
          "base_uri": "https://localhost:8080/"
        },
        "id": "nCPbRSpCc7v6",
        "outputId": "8645d472-dc32-4763-aba1-b72c09bc8947"
      },
      "outputs": [
        {
          "data": {
            "text/plain": [
              "((57, 7), (19, 7))"
            ]
          },
          "execution_count": 26,
          "metadata": {},
          "output_type": "execute_result"
        }
      ],
      "source": [
        "X_train, X_test, y_train, y_test = train_test_split(X, y, test_size=0.25, random_state=42)\n",
        "X_train.shape, X_test.shape"
      ]
    },
    {
      "cell_type": "markdown",
      "metadata": {
        "id": "65wuhMRTc7v6"
      },
      "source": [
        "# Klasyfikatory"
      ]
    },
    {
      "cell_type": "code",
      "execution_count": null,
      "metadata": {
        "id": "NwZYw4g9c7v6"
      },
      "outputs": [],
      "source": [
        "from sklearn.model_selection import cross_val_score\n",
        "from sklearn.metrics import confusion_matrix\n",
        "from sklearn.metrics import accuracy_score, f1_score\n",
        "import seaborn as sn"
      ]
    },
    {
      "cell_type": "markdown",
      "metadata": {
        "id": "P_WksoA1c7v7"
      },
      "source": [
        "## Drzewa decyzyjne"
      ]
    },
    {
      "cell_type": "code",
      "execution_count": null,
      "metadata": {
        "colab": {
          "base_uri": "https://localhost:8080/"
        },
        "id": "WF_jmV3mc7v7",
        "outputId": "ef21c996-3a05-4a01-bd5d-a590a27cf90e"
      },
      "outputs": [
        {
          "data": {
            "text/plain": [
              "0.923076923076923"
            ]
          },
          "execution_count": 92,
          "metadata": {},
          "output_type": "execute_result"
        }
      ],
      "source": [
        "from sklearn.tree import DecisionTreeClassifier\n",
        "\n",
        "# Create Decision Tree classifer object\n",
        "clf = DecisionTreeClassifier(max_depth=3, random_state=0)\n",
        "\n",
        "# Train Decision Tree Classifer\n",
        "clf = clf.fit(X_train,y_train)\n",
        "\n",
        "#Predict the response for test dataset\n",
        "y_pred = clf.predict(X_test)\n",
        "\n",
        "cross_val_score(clf, X, y, cv=10)\n",
        "f1_score(y_test, y_pred)"
      ]
    },
    {
      "cell_type": "code",
      "execution_count": null,
      "metadata": {
        "colab": {
          "base_uri": "https://localhost:8080/",
          "height": 452
        },
        "id": "Rqg30HYk-xA6",
        "outputId": "89452768-632b-4c76-bad6-cc62b5dd2037"
      },
      "outputs": [
        {
          "data": {
            "image/png": "[encoded data removed]",
            "text/plain": [
              "<Figure size 640x480 with 2 Axes>"
            ]
          },
          "metadata": {},
          "output_type": "display_data"
        }
      ],
      "source": [
        "y_pred = clf.predict(X_test)\n",
        "cm = confusion_matrix(y_test, y_pred)\n",
        "sn.heatmap(cm, annot=True).set(title=\"Confusion matrix (DecisionTreeClassifier)\")\n",
        "acc = accuracy_score(y_test, y_pred)"
      ]
    },
    {
      "cell_type": "code",
      "execution_count": null,
      "metadata": {
        "colab": {
          "base_uri": "https://localhost:8080/"
        },
        "id": "bpk_mz2MLs43",
        "outputId": "30207462-8b43-49e9-8d14-3d3e65f6d2ed"
      },
      "outputs": [
        {
          "name": "stdout",
          "output_type": "stream",
          "text": [
            "Accuracy:  0.9473684210526315\n"
          ]
        }
      ],
      "source": [
        "print(\"Accuracy: \", acc)"
      ]
    },
    {
      "cell_type": "code",
      "execution_count": null,
      "metadata": {
        "colab": {
          "base_uri": "https://localhost:8080/"
        },
        "id": "PDOTCJ1HF-q4",
        "outputId": "3784ed49-720a-4374-d437-cf43f9c17c42"
      },
      "outputs": [
        {
          "name": "stdout",
          "output_type": "stream",
          "text": [
            "Reading package lists... Done\n",
            "Building dependency tree       \n",
            "Reading state information... Done\n",
            "graphviz is already the newest version (2.42.2-3build2).\n",
            "0 upgraded, 0 newly installed, 0 to remove and 34 not upgraded.\n"
          ]
        }
      ],
      "source": [
        "!apt-get install graphviz"
      ]
    },
    {
      "cell_type": "code",
      "execution_count": null,
      "metadata": {
        "colab": {
          "base_uri": "https://localhost:8080/",
          "height": 1000
        },
        "id": "6AnkdV1MHyFX",
        "outputId": "c1ccb7b1-6a03-46a2-8950-8af0bd0ea6b9"
      },
      "outputs": [
        {
          "data": {
            "text/plain": [
              "[Text(0.375, 0.875, 'x[0] <= -0.623\\ngini = 0.499\\nsamples = 57\\nvalue = [30, 27]'),\n",
              " Text(0.25, 0.625, 'gini = 0.0\\nsamples = 24\\nvalue = [0, 24]'),\n",
              " Text(0.5, 0.625, 'x[6] <= 0.5\\ngini = 0.165\\nsamples = 33\\nvalue = [30, 3]'),\n",
              " Text(0.25, 0.375, 'x[0] <= -0.085\\ngini = 0.067\\nsamples = 29\\nvalue = [28, 1]'),\n",
              " Text(0.125, 0.125, 'gini = 0.375\\nsamples = 4\\nvalue = [3, 1]'),\n",
              " Text(0.375, 0.125, 'gini = 0.0\\nsamples = 25\\nvalue = [25, 0]'),\n",
              " Text(0.75, 0.375, 'x[3] <= 0.225\\ngini = 0.5\\nsamples = 4\\nvalue = [2, 2]'),\n",
              " Text(0.625, 0.125, 'gini = 0.0\\nsamples = 1\\nvalue = [1, 0]'),\n",
              " Text(0.875, 0.125, 'gini = 0.444\\nsamples = 3\\nvalue = [1, 2]')]"
            ]
          },
          "execution_count": 96,
          "metadata": {},
          "output_type": "execute_result"
        },
        {
          "data": {
            "image/png": "[encoded data removed]",
            "text/plain": [
              "<Figure size 1600x1600 with 1 Axes>"
            ]
          },
          "metadata": {},
          "output_type": "display_data"
        }
      ],
      "source": [
        "from sklearn import tree\n",
        "\n",
        "plt.figure(figsize=(20,20), dpi= 80)\n",
        "tree.plot_tree(clf)"
      ]
    },
    {
      "cell_type": "code",
      "execution_count": null,
      "metadata": {
        "colab": {
          "base_uri": "https://localhost:8080/",
          "height": 503
        },
        "id": "SjgkI96jGGPT",
        "outputId": "52e6d6fc-8ac7-48b6-9f6e-706f56ab5304"
      },
      "outputs": [
        {
          "data": {
            "image/svg+xml": [
              "<?xml version=\"1.0\" encoding=\"UTF-8\" standalone=\"no\"?>\n",
              "<!DOCTYPE svg PUBLIC \"-//W3C//DTD SVG 1.1//EN\"\n",
              " \"http://www.w3.org/Graphics/SVG/1.1/DTD/svg11.dtd\">\n",
              "<!-- Generated by graphviz version 2.43.0 (0)\n",
              " -->\n",
              "<!-- Title: Tree Pages: 1 -->\n",
              "<svg width=\"450pt\" height=\"361pt\"\n",
              " viewBox=\"0.00 0.00 450.00 361.00\" xmlns=\"http://www.w3.org/2000/svg\" xmlns:xlink=\"http://www.w3.org/1999/xlink\">\n",
              "<g id=\"graph0\" class=\"graph\" transform=\"scale(1 1) rotate(0) translate(4 357)\">\n",
              "<title>Tree</title>\n",
              "<polygon fill=\"white\" stroke=\"transparent\" points=\"-4,4 -4,-357 446,-357 446,4 -4,4\"/>\n",
              "<!-- 0 -->\n",
              "<g id=\"node1\" class=\"node\">\n",
              "<title>0</title>\n",
              "<path fill=\"#fcf2eb\" stroke=\"black\" d=\"M205.5,-353C205.5,-353 119.5,-353 119.5,-353 113.5,-353 107.5,-347 107.5,-341 107.5,-341 107.5,-301 107.5,-301 107.5,-295 113.5,-289 119.5,-289 119.5,-289 205.5,-289 205.5,-289 211.5,-289 217.5,-295 217.5,-301 217.5,-301 217.5,-341 217.5,-341 217.5,-347 211.5,-353 205.5,-353\"/>\n",
              "<text text-anchor=\"start\" x=\"128.5\" y=\"-338.8\" font-family=\"Helvetica,sans-Serif\" font-size=\"14.00\">x</text>\n",
              "<text text-anchor=\"start\" x=\"135.5\" y=\"-338.8\" font-family=\"Helvetica,sans-Serif\" baseline-shift=\"sub\" font-size=\"14.00\">0</text>\n",
              "<text text-anchor=\"start\" x=\"142.5\" y=\"-338.8\" font-family=\"Helvetica,sans-Serif\" font-size=\"14.00\"> ≤ &#45;0.623</text>\n",
              "<text text-anchor=\"start\" x=\"127\" y=\"-324.8\" font-family=\"Helvetica,sans-Serif\" font-size=\"14.00\">gini = 0.499</text>\n",
              "<text text-anchor=\"start\" x=\"121.5\" y=\"-310.8\" font-family=\"Helvetica,sans-Serif\" font-size=\"14.00\">samples = 57</text>\n",
              "<text text-anchor=\"start\" x=\"115.5\" y=\"-296.8\" font-family=\"Helvetica,sans-Serif\" font-size=\"14.00\">value = [30, 27]</text>\n",
              "</g>\n",
              "<!-- 1 -->\n",
              "<g id=\"node2\" class=\"node\">\n",
              "<title>1</title>\n",
              "<path fill=\"#399de5\" stroke=\"black\" d=\"M141.5,-247.5C141.5,-247.5 63.5,-247.5 63.5,-247.5 57.5,-247.5 51.5,-241.5 51.5,-235.5 51.5,-235.5 51.5,-206.5 51.5,-206.5 51.5,-200.5 57.5,-194.5 63.5,-194.5 63.5,-194.5 141.5,-194.5 141.5,-194.5 147.5,-194.5 153.5,-200.5 153.5,-206.5 153.5,-206.5 153.5,-235.5 153.5,-235.5 153.5,-241.5 147.5,-247.5 141.5,-247.5\"/>\n",
              "<text text-anchor=\"start\" x=\"74.5\" y=\"-232.3\" font-family=\"Helvetica,sans-Serif\" font-size=\"14.00\">gini = 0.0</text>\n",
              "<text text-anchor=\"start\" x=\"61.5\" y=\"-217.3\" font-family=\"Helvetica,sans-Serif\" font-size=\"14.00\">samples = 24</text>\n",
              "<text text-anchor=\"start\" x=\"59.5\" y=\"-202.3\" font-family=\"Helvetica,sans-Serif\" font-size=\"14.00\">value = [0, 24]</text>\n",
              "</g>\n",
              "<!-- 0&#45;&gt;1 -->\n",
              "<g id=\"edge1\" class=\"edge\">\n",
              "<title>0&#45;&gt;1</title>\n",
              "<path fill=\"none\" stroke=\"black\" d=\"M143.52,-288.99C137.13,-278.57 129.98,-266.88 123.45,-256.22\"/>\n",
              "<polygon fill=\"black\" stroke=\"black\" points=\"126.35,-254.26 118.15,-247.56 120.38,-257.91 126.35,-254.26\"/>\n",
              "<text text-anchor=\"middle\" x=\"112.3\" y=\"-268.16\" font-family=\"Helvetica,sans-Serif\" font-size=\"14.00\">True</text>\n",
              "</g>\n",
              "<!-- 2 -->\n",
              "<g id=\"node3\" class=\"node\">\n",
              "<title>2</title>\n",
              "<path fill=\"#e88e4d\" stroke=\"black\" d=\"M261.5,-253C261.5,-253 183.5,-253 183.5,-253 177.5,-253 171.5,-247 171.5,-241 171.5,-241 171.5,-201 171.5,-201 171.5,-195 177.5,-189 183.5,-189 183.5,-189 261.5,-189 261.5,-189 267.5,-189 273.5,-195 273.5,-201 273.5,-201 273.5,-241 273.5,-241 273.5,-247 267.5,-253 261.5,-253\"/>\n",
              "<text text-anchor=\"start\" x=\"198.5\" y=\"-238.8\" font-family=\"Helvetica,sans-Serif\" font-size=\"14.00\">x</text>\n",
              "<text text-anchor=\"start\" x=\"205.5\" y=\"-238.8\" font-family=\"Helvetica,sans-Serif\" baseline-shift=\"sub\" font-size=\"14.00\">6</text>\n",
              "<text text-anchor=\"start\" x=\"212.5\" y=\"-238.8\" font-family=\"Helvetica,sans-Serif\" font-size=\"14.00\"> ≤ 0.5</text>\n",
              "<text text-anchor=\"start\" x=\"187\" y=\"-224.8\" font-family=\"Helvetica,sans-Serif\" font-size=\"14.00\">gini = 0.165</text>\n",
              "<text text-anchor=\"start\" x=\"181.5\" y=\"-210.8\" font-family=\"Helvetica,sans-Serif\" font-size=\"14.00\">samples = 33</text>\n",
              "<text text-anchor=\"start\" x=\"179.5\" y=\"-196.8\" font-family=\"Helvetica,sans-Serif\" font-size=\"14.00\">value = [30, 3]</text>\n",
              "</g>\n",
              "<!-- 0&#45;&gt;2 -->\n",
              "<g id=\"edge2\" class=\"edge\">\n",
              "<title>0&#45;&gt;2</title>\n",
              "<path fill=\"none\" stroke=\"black\" d=\"M181.48,-288.99C186.79,-280.32 192.63,-270.78 198.2,-261.68\"/>\n",
              "<polygon fill=\"black\" stroke=\"black\" points=\"201.2,-263.5 203.43,-253.14 195.23,-259.84 201.2,-263.5\"/>\n",
              "<text text-anchor=\"middle\" x=\"209.28\" y=\"-273.75\" font-family=\"Helvetica,sans-Serif\" font-size=\"14.00\">False</text>\n",
              "</g>\n",
              "<!-- 3 -->\n",
              "<g id=\"node4\" class=\"node\">\n",
              "<title>3</title>\n",
              "<path fill=\"#e68640\" stroke=\"black\" d=\"M203.5,-153C203.5,-153 125.5,-153 125.5,-153 119.5,-153 113.5,-147 113.5,-141 113.5,-141 113.5,-101 113.5,-101 113.5,-95 119.5,-89 125.5,-89 125.5,-89 203.5,-89 203.5,-89 209.5,-89 215.5,-95 215.5,-101 215.5,-101 215.5,-141 215.5,-141 215.5,-147 209.5,-153 203.5,-153\"/>\n",
              "<text text-anchor=\"start\" x=\"130.5\" y=\"-138.8\" font-family=\"Helvetica,sans-Serif\" font-size=\"14.00\">x</text>\n",
              "<text text-anchor=\"start\" x=\"137.5\" y=\"-138.8\" font-family=\"Helvetica,sans-Serif\" baseline-shift=\"sub\" font-size=\"14.00\">0</text>\n",
              "<text text-anchor=\"start\" x=\"144.5\" y=\"-138.8\" font-family=\"Helvetica,sans-Serif\" font-size=\"14.00\"> ≤ &#45;0.085</text>\n",
              "<text text-anchor=\"start\" x=\"129\" y=\"-124.8\" font-family=\"Helvetica,sans-Serif\" font-size=\"14.00\">gini = 0.067</text>\n",
              "<text text-anchor=\"start\" x=\"123.5\" y=\"-110.8\" font-family=\"Helvetica,sans-Serif\" font-size=\"14.00\">samples = 29</text>\n",
              "<text text-anchor=\"start\" x=\"121.5\" y=\"-96.8\" font-family=\"Helvetica,sans-Serif\" font-size=\"14.00\">value = [28, 1]</text>\n",
              "</g>\n",
              "<!-- 2&#45;&gt;3 -->\n",
              "<g id=\"edge3\" class=\"edge\">\n",
              "<title>2&#45;&gt;3</title>\n",
              "<path fill=\"none\" stroke=\"black\" d=\"M204.15,-188.99C199.07,-180.41 193.49,-170.98 188.15,-161.97\"/>\n",
              "<polygon fill=\"black\" stroke=\"black\" points=\"191.04,-159.97 182.93,-153.14 185.01,-163.53 191.04,-159.97\"/>\n",
              "</g>\n",
              "<!-- 6 -->\n",
              "<g id=\"node7\" class=\"node\">\n",
              "<title>6</title>\n",
              "<path fill=\"#ffffff\" stroke=\"black\" d=\"M317,-153C317,-153 246,-153 246,-153 240,-153 234,-147 234,-141 234,-141 234,-101 234,-101 234,-95 240,-89 246,-89 246,-89 317,-89 317,-89 323,-89 329,-95 329,-101 329,-101 329,-141 329,-141 329,-147 323,-153 317,-153\"/>\n",
              "<text text-anchor=\"start\" x=\"250\" y=\"-138.8\" font-family=\"Helvetica,sans-Serif\" font-size=\"14.00\">x</text>\n",
              "<text text-anchor=\"start\" x=\"257\" y=\"-138.8\" font-family=\"Helvetica,sans-Serif\" baseline-shift=\"sub\" font-size=\"14.00\">3</text>\n",
              "<text text-anchor=\"start\" x=\"264\" y=\"-138.8\" font-family=\"Helvetica,sans-Serif\" font-size=\"14.00\"> ≤ 0.225</text>\n",
              "<text text-anchor=\"start\" x=\"253.5\" y=\"-124.8\" font-family=\"Helvetica,sans-Serif\" font-size=\"14.00\">gini = 0.5</text>\n",
              "<text text-anchor=\"start\" x=\"244\" y=\"-110.8\" font-family=\"Helvetica,sans-Serif\" font-size=\"14.00\">samples = 4</text>\n",
              "<text text-anchor=\"start\" x=\"242\" y=\"-96.8\" font-family=\"Helvetica,sans-Serif\" font-size=\"14.00\">value = [2, 2]</text>\n",
              "</g>\n",
              "<!-- 2&#45;&gt;6 -->\n",
              "<g id=\"edge6\" class=\"edge\">\n",
              "<title>2&#45;&gt;6</title>\n",
              "<path fill=\"none\" stroke=\"black\" d=\"M241.17,-188.99C246.33,-180.41 252.01,-170.98 257.44,-161.97\"/>\n",
              "<polygon fill=\"black\" stroke=\"black\" points=\"260.59,-163.51 262.75,-153.14 254.59,-159.9 260.59,-163.51\"/>\n",
              "</g>\n",
              "<!-- 4 -->\n",
              "<g id=\"node5\" class=\"node\">\n",
              "<title>4</title>\n",
              "<path fill=\"#eeab7b\" stroke=\"black\" d=\"M83,-53C83,-53 12,-53 12,-53 6,-53 0,-47 0,-41 0,-41 0,-12 0,-12 0,-6 6,0 12,0 12,0 83,0 83,0 89,0 95,-6 95,-12 95,-12 95,-41 95,-41 95,-47 89,-53 83,-53\"/>\n",
              "<text text-anchor=\"start\" x=\"12\" y=\"-37.8\" font-family=\"Helvetica,sans-Serif\" font-size=\"14.00\">gini = 0.375</text>\n",
              "<text text-anchor=\"start\" x=\"10\" y=\"-22.8\" font-family=\"Helvetica,sans-Serif\" font-size=\"14.00\">samples = 4</text>\n",
              "<text text-anchor=\"start\" x=\"8\" y=\"-7.8\" font-family=\"Helvetica,sans-Serif\" font-size=\"14.00\">value = [3, 1]</text>\n",
              "</g>\n",
              "<!-- 3&#45;&gt;4 -->\n",
              "<g id=\"edge4\" class=\"edge\">\n",
              "<title>3&#45;&gt;4</title>\n",
              "<path fill=\"none\" stroke=\"black\" d=\"M125.22,-88.94C113.24,-79.47 100.06,-69.05 88,-59.52\"/>\n",
              "<polygon fill=\"black\" stroke=\"black\" points=\"89.88,-56.55 79.87,-53.09 85.54,-62.04 89.88,-56.55\"/>\n",
              "</g>\n",
              "<!-- 5 -->\n",
              "<g id=\"node6\" class=\"node\">\n",
              "<title>5</title>\n",
              "<path fill=\"#e58139\" stroke=\"black\" d=\"M203.5,-53C203.5,-53 125.5,-53 125.5,-53 119.5,-53 113.5,-47 113.5,-41 113.5,-41 113.5,-12 113.5,-12 113.5,-6 119.5,0 125.5,0 125.5,0 203.5,0 203.5,0 209.5,0 215.5,-6 215.5,-12 215.5,-12 215.5,-41 215.5,-41 215.5,-47 209.5,-53 203.5,-53\"/>\n",
              "<text text-anchor=\"start\" x=\"136.5\" y=\"-37.8\" font-family=\"Helvetica,sans-Serif\" font-size=\"14.00\">gini = 0.0</text>\n",
              "<text text-anchor=\"start\" x=\"123.5\" y=\"-22.8\" font-family=\"Helvetica,sans-Serif\" font-size=\"14.00\">samples = 25</text>\n",
              "<text text-anchor=\"start\" x=\"121.5\" y=\"-7.8\" font-family=\"Helvetica,sans-Serif\" font-size=\"14.00\">value = [25, 0]</text>\n",
              "</g>\n",
              "<!-- 3&#45;&gt;5 -->\n",
              "<g id=\"edge5\" class=\"edge\">\n",
              "<title>3&#45;&gt;5</title>\n",
              "<path fill=\"none\" stroke=\"black\" d=\"M164.5,-88.94C164.5,-80.66 164.5,-71.64 164.5,-63.13\"/>\n",
              "<polygon fill=\"black\" stroke=\"black\" points=\"168,-63.09 164.5,-53.09 161,-63.09 168,-63.09\"/>\n",
              "</g>\n",
              "<!-- 7 -->\n",
              "<g id=\"node8\" class=\"node\">\n",
              "<title>7</title>\n",
              "<path fill=\"#e58139\" stroke=\"black\" d=\"M317,-53C317,-53 246,-53 246,-53 240,-53 234,-47 234,-41 234,-41 234,-12 234,-12 234,-6 240,0 246,0 246,0 317,0 317,0 323,0 329,-6 329,-12 329,-12 329,-41 329,-41 329,-47 323,-53 317,-53\"/>\n",
              "<text text-anchor=\"start\" x=\"253.5\" y=\"-37.8\" font-family=\"Helvetica,sans-Serif\" font-size=\"14.00\">gini = 0.0</text>\n",
              "<text text-anchor=\"start\" x=\"244\" y=\"-22.8\" font-family=\"Helvetica,sans-Serif\" font-size=\"14.00\">samples = 1</text>\n",
              "<text text-anchor=\"start\" x=\"242\" y=\"-7.8\" font-family=\"Helvetica,sans-Serif\" font-size=\"14.00\">value = [1, 0]</text>\n",
              "</g>\n",
              "<!-- 6&#45;&gt;7 -->\n",
              "<g id=\"edge7\" class=\"edge\">\n",
              "<title>6&#45;&gt;7</title>\n",
              "<path fill=\"none\" stroke=\"black\" d=\"M281.5,-88.94C281.5,-80.66 281.5,-71.64 281.5,-63.13\"/>\n",
              "<polygon fill=\"black\" stroke=\"black\" points=\"285,-63.09 281.5,-53.09 278,-63.09 285,-63.09\"/>\n",
              "</g>\n",
              "<!-- 8 -->\n",
              "<g id=\"node9\" class=\"node\">\n",
              "<title>8</title>\n",
              "<path fill=\"#9ccef2\" stroke=\"black\" d=\"M430,-53C430,-53 359,-53 359,-53 353,-53 347,-47 347,-41 347,-41 347,-12 347,-12 347,-6 353,0 359,0 359,0 430,0 430,0 436,0 442,-6 442,-12 442,-12 442,-41 442,-41 442,-47 436,-53 430,-53\"/>\n",
              "<text text-anchor=\"start\" x=\"359\" y=\"-37.8\" font-family=\"Helvetica,sans-Serif\" font-size=\"14.00\">gini = 0.444</text>\n",
              "<text text-anchor=\"start\" x=\"357\" y=\"-22.8\" font-family=\"Helvetica,sans-Serif\" font-size=\"14.00\">samples = 3</text>\n",
              "<text text-anchor=\"start\" x=\"355\" y=\"-7.8\" font-family=\"Helvetica,sans-Serif\" font-size=\"14.00\">value = [1, 2]</text>\n",
              "</g>\n",
              "<!-- 6&#45;&gt;8 -->\n",
              "<g id=\"edge8\" class=\"edge\">\n",
              "<title>6&#45;&gt;8</title>\n",
              "<path fill=\"none\" stroke=\"black\" d=\"M319.44,-88.94C331.01,-79.47 343.74,-69.05 355.38,-59.52\"/>\n",
              "<polygon fill=\"black\" stroke=\"black\" points=\"357.72,-62.13 363.24,-53.09 353.28,-56.72 357.72,-62.13\"/>\n",
              "</g>\n",
              "</g>\n",
              "</svg>\n"
            ],
            "text/plain": [
              "<graphviz.sources.Source at 0x7f31563f1f30>"
            ]
          },
          "execution_count": 97,
          "metadata": {},
          "output_type": "execute_result"
        }
      ],
      "source": [
        "import graphviz\n",
        "\n",
        "dot_data = tree.export_graphviz(clf,\n",
        "                  filled=True, rounded=True,\n",
        "                  special_characters=True,\n",
        "                  out_file=None,)\n",
        "graph = graphviz.Source(dot_data)\n",
        "graph"
      ]
    },
    {
      "cell_type": "markdown",
      "metadata": {
        "id": "68kv8E3uc7v7"
      },
      "source": [
        "\n",
        "## SVM"
      ]
    },
    {
      "cell_type": "code",
      "execution_count": null,
      "metadata": {
        "id": "fMLWIEP6c7v7"
      },
      "outputs": [],
      "source": [
        "from sklearn.svm import SVC"
      ]
    },
    {
      "cell_type": "code",
      "execution_count": null,
      "metadata": {
        "colab": {
          "base_uri": "https://localhost:8080/",
          "height": 74
        },
        "id": "yq583rSKc7v8",
        "outputId": "c8f9b520-f7ae-4d3a-bf51-b139e980c429"
      },
      "outputs": [
        {
          "data": {
            "text/html": [
              "<style>#sk-container-id-3 {color: black;background-color: white;}#sk-container-id-3 pre{padding: 0;}#sk-container-id-3 div.sk-toggleable {background-color: white;}#sk-container-id-3 label.sk-toggleable__label {cursor: pointer;display: block;width: 100%;margin-bottom: 0;padding: 0.3em;box-sizing: border-box;text-align: center;}#sk-container-id-3 label.sk-toggleable__label-arrow:before {content: \"▸\";float: left;margin-right: 0.25em;color: #696969;}#sk-container-id-3 label.sk-toggleable__label-arrow:hover:before {color: black;}#sk-container-id-3 div.sk-estimator:hover label.sk-toggleable__label-arrow:before {color: black;}#sk-container-id-3 div.sk-toggleable__content {max-height: 0;max-width: 0;overflow: hidden;text-align: left;background-color: #f0f8ff;}#sk-container-id-3 div.sk-toggleable__content pre {margin: 0.2em;color: black;border-radius: 0.25em;background-color: #f0f8ff;}#sk-container-id-3 input.sk-toggleable__control:checked~div.sk-toggleable__content {max-height: 200px;max-width: 100%;overflow: auto;}#sk-container-id-3 input.sk-toggleable__control:checked~label.sk-toggleable__label-arrow:before {content: \"▾\";}#sk-container-id-3 div.sk-estimator input.sk-toggleable__control:checked~label.sk-toggleable__label {background-color: #d4ebff;}#sk-container-id-3 div.sk-label input.sk-toggleable__control:checked~label.sk-toggleable__label {background-color: #d4ebff;}#sk-container-id-3 input.sk-hidden--visually {border: 0;clip: rect(1px 1px 1px 1px);clip: rect(1px, 1px, 1px, 1px);height: 1px;margin: -1px;overflow: hidden;padding: 0;position: absolute;width: 1px;}#sk-container-id-3 div.sk-estimator {font-family: monospace;background-color: #f0f8ff;border: 1px dotted black;border-radius: 0.25em;box-sizing: border-box;margin-bottom: 0.5em;}#sk-container-id-3 div.sk-estimator:hover {background-color: #d4ebff;}#sk-container-id-3 div.sk-parallel-item::after {content: \"\";width: 100%;border-bottom: 1px solid gray;flex-grow: 1;}#sk-container-id-3 div.sk-label:hover label.sk-toggleable__label {background-color: #d4ebff;}#sk-container-id-3 div.sk-serial::before {content: \"\";position: absolute;border-left: 1px solid gray;box-sizing: border-box;top: 0;bottom: 0;left: 50%;z-index: 0;}#sk-container-id-3 div.sk-serial {display: flex;flex-direction: column;align-items: center;background-color: white;padding-right: 0.2em;padding-left: 0.2em;position: relative;}#sk-container-id-3 div.sk-item {position: relative;z-index: 1;}#sk-container-id-3 div.sk-parallel {display: flex;align-items: stretch;justify-content: center;background-color: white;position: relative;}#sk-container-id-3 div.sk-item::before, #sk-container-id-3 div.sk-parallel-item::before {content: \"\";position: absolute;border-left: 1px solid gray;box-sizing: border-box;top: 0;bottom: 0;left: 50%;z-index: -1;}#sk-container-id-3 div.sk-parallel-item {display: flex;flex-direction: column;z-index: 1;position: relative;background-color: white;}#sk-container-id-3 div.sk-parallel-item:first-child::after {align-self: flex-end;width: 50%;}#sk-container-id-3 div.sk-parallel-item:last-child::after {align-self: flex-start;width: 50%;}#sk-container-id-3 div.sk-parallel-item:only-child::after {width: 0;}#sk-container-id-3 div.sk-dashed-wrapped {border: 1px dashed gray;margin: 0 0.4em 0.5em 0.4em;box-sizing: border-box;padding-bottom: 0.4em;background-color: white;}#sk-container-id-3 div.sk-label label {font-family: monospace;font-weight: bold;display: inline-block;line-height: 1.2em;}#sk-container-id-3 div.sk-label-container {text-align: center;}#sk-container-id-3 div.sk-container {/* jupyter's `normalize.less` sets `[hidden] { display: none; }` but bootstrap.min.css set `[hidden] { display: none !important; }` so we also need the `!important` here to be able to override the default hidden behavior on the sphinx rendered scikit-learn.org. See: https://github.com/scikit-learn/scikit-learn/issues/21755 */display: inline-block !important;position: relative;}#sk-container-id-3 div.sk-text-repr-fallback {display: none;}</style><div id=\"sk-container-id-3\" class=\"sk-top-container\"><div class=\"sk-text-repr-fallback\"><pre>SVC(C=0.5, kernel=&#x27;linear&#x27;)</pre><b>In a Jupyter environment, please rerun this cell to show the HTML representation or trust the notebook. <br />On GitHub, the HTML representation is unable to render, please try loading this page with nbviewer.org.</b></div><div class=\"sk-container\" hidden><div class=\"sk-item\"><div class=\"sk-estimator sk-toggleable\"><input class=\"sk-toggleable__control sk-hidden--visually\" id=\"sk-estimator-id-3\" type=\"checkbox\" checked><label for=\"sk-estimator-id-3\" class=\"sk-toggleable__label sk-toggleable__label-arrow\">SVC</label><div class=\"sk-toggleable__content\"><pre>SVC(C=0.5, kernel=&#x27;linear&#x27;)</pre></div></div></div></div></div>"
            ],
            "text/plain": [
              "SVC(C=0.5, kernel='linear')"
            ]
          },
          "execution_count": 103,
          "metadata": {},
          "output_type": "execute_result"
        }
      ],
      "source": [
        "clf = SVC(kernel='rbf', gamma=0.5, C=1)\n",
        "clf1 = SVC(kernel='poly', degree=3)\n",
        "clf2 = SVC(kernel='linear', C=0.5)\n",
        "\n",
        "clf.fit(X_train, y_train)\n",
        "clf1.fit(X_train, y_train)\n",
        "clf2.fit(X_train, y_train)"
      ]
    },
    {
      "cell_type": "code",
      "execution_count": null,
      "metadata": {
        "id": "bMUXDvqNlNOj"
      },
      "outputs": [],
      "source": [
        "y_pred = clf.predict(X_test)\n",
        "y_pred1 = clf1.predict(X_test)\n",
        "y_pred2 = clf2.predict(X_test)"
      ]
    },
    {
      "cell_type": "code",
      "execution_count": null,
      "metadata": {
        "colab": {
          "base_uri": "https://localhost:8080/"
        },
        "id": "Nouseqm-kUS-",
        "outputId": "6dec167a-ff58-4ea9-d940-cca3b0f7471f"
      },
      "outputs": [
        {
          "data": {
            "text/plain": [
              "(0.8947368421052632, 0.8947368421052632, 0.8947368421052632)"
            ]
          },
          "execution_count": 105,
          "metadata": {},
          "output_type": "execute_result"
        }
      ],
      "source": [
        "accuracy_score(y_test, y_pred), accuracy_score(y_test, y_pred1), accuracy_score(y_test, y_pred2)"
      ]
    },
    {
      "cell_type": "code",
      "execution_count": null,
      "metadata": {
        "colab": {
          "base_uri": "https://localhost:8080/"
        },
        "id": "kQUaaRYgSZC9",
        "outputId": "178b66cf-ab91-49de-b8ba-34677a91b78f"
      },
      "outputs": [
        {
          "data": {
            "text/plain": [
              "(0.8750000000000001, 0.8750000000000001, 0.8750000000000001)"
            ]
          },
          "execution_count": 106,
          "metadata": {},
          "output_type": "execute_result"
        }
      ],
      "source": [
        "f1_score(y_test, y_pred), f1_score(y_test, y_pred1), f1_score(y_test, y_pred2)"
      ]
    },
    {
      "cell_type": "code",
      "execution_count": null,
      "metadata": {
        "colab": {
          "base_uri": "https://localhost:8080/"
        },
        "id": "unCXGa-vmyGh",
        "outputId": "adb6c6db-d8c3-4a59-e549-dff75fe3c29b"
      },
      "outputs": [
        {
          "data": {
            "text/plain": [
              "array([1.        , 0.75      , 0.75      , 1.        , 1.        ,\n",
              "       0.875     , 0.85714286, 0.71428571, 0.71428571, 0.85714286])"
            ]
          },
          "execution_count": 107,
          "metadata": {},
          "output_type": "execute_result"
        }
      ],
      "source": [
        "scores = cross_val_score(clf, X, y, cv=10)\n",
        "scores"
      ]
    },
    {
      "cell_type": "code",
      "execution_count": null,
      "metadata": {
        "id": "9ShUXlqalTo5"
      },
      "outputs": [],
      "source": [
        "cm = confusion_matrix(y_test, y_pred)\n",
        "cm1 = confusion_matrix(y_test, y_pred1)\n",
        "cm2 = confusion_matrix(y_test, y_pred2)"
      ]
    },
    {
      "cell_type": "code",
      "execution_count": null,
      "metadata": {
        "colab": {
          "base_uri": "https://localhost:8080/",
          "height": 469
        },
        "id": "hMxO8lF_lvz_",
        "outputId": "85242305-26e7-4179-d4c6-78d4ee94aebf"
      },
      "outputs": [
        {
          "data": {
            "text/plain": [
              "[Text(0.5, 1.0, 'Confusion matrix (RBF)')]"
            ]
          },
          "execution_count": 109,
          "metadata": {},
          "output_type": "execute_result"
        },
        {
          "data": {
            "image/png": "[encoded data removed]",
            "text/plain": [
              "<Figure size 640x480 with 2 Axes>"
            ]
          },
          "metadata": {},
          "output_type": "display_data"
        }
      ],
      "source": [
        "sn.heatmap(cm, annot=True).set(title='Confusion matrix (RBF)')"
      ]
    },
    {
      "cell_type": "code",
      "execution_count": null,
      "metadata": {
        "colab": {
          "base_uri": "https://localhost:8080/",
          "height": 452
        },
        "id": "zknh4HmxvOo6",
        "outputId": "fbae7404-7e37-4592-a70d-dfae86e6c07a"
      },
      "outputs": [
        {
          "data": {
            "text/plain": [
              "<Axes: >"
            ]
          },
          "execution_count": 110,
          "metadata": {},
          "output_type": "execute_result"
        },
        {
          "data": {
            "image/png": "[encoded data removed]",
            "text/plain": [
              "<Figure size 640x480 with 2 Axes>"
            ]
          },
          "metadata": {},
          "output_type": "display_data"
        }
      ],
      "source": [
        "sn.heatmap(cm1, annot=True)"
      ]
    },
    {
      "cell_type": "code",
      "execution_count": null,
      "metadata": {
        "colab": {
          "base_uri": "https://localhost:8080/",
          "height": 452
        },
        "id": "4M5y8iIpvOC-",
        "outputId": "65c7daf8-45b5-4603-aee6-04c11f3c59e3"
      },
      "outputs": [
        {
          "data": {
            "text/plain": [
              "<Axes: >"
            ]
          },
          "execution_count": 111,
          "metadata": {},
          "output_type": "execute_result"
        },
        {
          "data": {
            "image/png": "[encoded data removed]",
            "text/plain": [
              "<Figure size 640x480 with 2 Axes>"
            ]
          },
          "metadata": {},
          "output_type": "display_data"
        }
      ],
      "source": [
        "sn.heatmap(cm2, annot=True)"
      ]
    },
    {
      "cell_type": "markdown",
      "metadata": {
        "id": "DRqOoBidc7v6"
      },
      "source": [
        "## kNN"
      ]
    },
    {
      "cell_type": "code",
      "execution_count": null,
      "metadata": {
        "id": "3O7ZmllqAvM2"
      },
      "outputs": [],
      "source": [
        "from sklearn.neighbors import KNeighborsClassifier\n",
        "\n",
        "k_values = [i for i in range (1,31)]\n",
        "scores = []\n",
        "\n",
        "for k in k_values:\n",
        "    knn = KNeighborsClassifier(n_neighbors=k)\n",
        "    score = cross_val_score(knn, X, y, cv=5)\n",
        "    scores.append(np.mean(score))"
      ]
    },
    {
      "cell_type": "code",
      "execution_count": null,
      "metadata": {
        "colab": {
          "base_uri": "https://localhost:8080/",
          "height": 471
        },
        "id": "wafqhii0AhLy",
        "outputId": "424158e4-cf1e-4a78-e61e-405aaeae565d"
      },
      "outputs": [
        {
          "data": {
            "text/plain": [
              "Text(0, 0.5, 'Accuracy Score')"
            ]
          },
          "execution_count": 114,
          "metadata": {},
          "output_type": "execute_result"
        },
        {
          "data": {
            "image/png": "[encoded data removed]",
            "text/plain": [
              "<Figure size 640x480 with 1 Axes>"
            ]
          },
          "metadata": {},
          "output_type": "display_data"
        }
      ],
      "source": [
        "sn.lineplot(x = k_values, y = scores, marker = 'o')\n",
        "plt.xlabel(\"K Values\")\n",
        "plt.ylabel(\"Accuracy Score\")"
      ]
    },
    {
      "cell_type": "code",
      "execution_count": null,
      "metadata": {
        "id": "EArpWFthc7v6"
      },
      "outputs": [],
      "source": [
        "clf1 = KNeighborsClassifier(n_neighbors=5)\n",
        "clf1.fit(X_train, y_train)\n",
        "y_pred1 = clf1.predict(X_test)\n",
        "\n",
        "clf2 = KNeighborsClassifier(n_neighbors=7)\n",
        "clf2.fit(X_train, y_train)\n",
        "y_pred2 = clf2.predict(X_test)"
      ]
    },
    {
      "cell_type": "code",
      "execution_count": null,
      "metadata": {
        "colab": {
          "base_uri": "https://localhost:8080/"
        },
        "id": "V4Wb3X8gAKgV",
        "outputId": "73936d50-14fc-4588-a447-132141d29de8"
      },
      "outputs": [
        {
          "name": "stdout",
          "output_type": "stream",
          "text": [
            "Accuracy k = 5: 0.8421052631578947\n",
            "Accuracy k = 7: 0.8947368421052632\n"
          ]
        }
      ],
      "source": [
        "accuracy1 = accuracy_score(y_test, y_pred1)\n",
        "accuracy2 = accuracy_score(y_test, y_pred2)\n",
        "print(\"Accuracy k = 5:\", accuracy1)\n",
        "print(\"Accuracy k = 7:\", accuracy2)"
      ]
    },
    {
      "cell_type": "code",
      "execution_count": null,
      "metadata": {
        "colab": {
          "base_uri": "https://localhost:8080/"
        },
        "id": "ezZvwQZ2S5_0",
        "outputId": "b2f4ac58-01ce-44e9-f78e-f22d720bf184"
      },
      "outputs": [
        {
          "data": {
            "text/plain": [
              "(0.8235294117647058, 0.8750000000000001)"
            ]
          },
          "execution_count": 117,
          "metadata": {},
          "output_type": "execute_result"
        }
      ],
      "source": [
        "f1_score(y_test, y_pred1),  f1_score(y_test, y_pred2)"
      ]
    },
    {
      "cell_type": "code",
      "execution_count": null,
      "metadata": {
        "colab": {
          "base_uri": "https://localhost:8080/",
          "height": 469
        },
        "id": "c-HlX1UhCR4Z",
        "outputId": "6399b960-efa1-48a7-cb27-fc08b4506657"
      },
      "outputs": [
        {
          "data": {
            "text/plain": [
              "0.8421052631578947"
            ]
          },
          "execution_count": 118,
          "metadata": {},
          "output_type": "execute_result"
        },
        {
          "data": {
            "image/png": "[encoded data removed]",
            "text/plain": [
              "<Figure size 640x480 with 2 Axes>"
            ]
          },
          "metadata": {},
          "output_type": "display_data"
        }
      ],
      "source": [
        "cm1 = confusion_matrix(y_test, y_pred1)\n",
        "sn.heatmap(cm, annot=True).set(title='Confusion matrix (k = 5)')\n",
        "accuracy_score(y_test, y_pred1)"
      ]
    },
    {
      "cell_type": "code",
      "execution_count": null,
      "metadata": {
        "colab": {
          "base_uri": "https://localhost:8080/",
          "height": 469
        },
        "id": "xAkuy1Q8CeLx",
        "outputId": "979ed4ab-ce09-49b2-9bf4-0fa599a93abf"
      },
      "outputs": [
        {
          "data": {
            "text/plain": [
              "0.8947368421052632"
            ]
          },
          "execution_count": 119,
          "metadata": {},
          "output_type": "execute_result"
        },
        {
          "data": {
            "image/png": "[encoded data removed]",
            "text/plain": [
              "<Figure size 640x480 with 2 Axes>"
            ]
          },
          "metadata": {},
          "output_type": "display_data"
        }
      ],
      "source": [
        "cm2 = confusion_matrix(y_test, y_pred2)\n",
        "sn.heatmap(cm2, annot=True).set(title='Confusion matrix (k = 7)')\n",
        "accuracy_score(y_test, y_pred2)"
      ]
    }
  ],
  "metadata": {
    "colab": {
      "provenance": []
    },
    "kernelspec": {
      "display_name": "ml",
      "language": "python",
      "name": "python3"
    },
    "language_info": {
      "codemirror_mode": {
        "name": "ipython",
        "version": 3
      },
      "file_extension": ".py",
      "mimetype": "text/x-python",
      "name": "python",
      "nbconvert_exporter": "python",
      "pygments_lexer": "ipython3",
      "version": "3.11.3"
    },
    "orig_nbformat": 4
  },
  "nbformat": 4,
  "nbformat_minor": 0
}
